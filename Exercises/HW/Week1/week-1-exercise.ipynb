{
 "cells": [
  {
   "cell_type": "markdown",
   "metadata": {},
   "source": [
    "## Week 1"
   ]
  },
  {
   "cell_type": "markdown",
   "metadata": {},
   "source": [
    "### Exercise 1:\n",
    "Write a function that receives a list as parameter and return how many elements it has; if it doesn't have any element return an error."
   ]
  },
  {
   "cell_type": "markdown",
   "metadata": {},
   "source": [
    "#### Solution 1:"
   ]
  },
  {
   "cell_type": "code",
   "execution_count": 1,
   "metadata": {},
   "outputs": [
    {
     "name": "stdout",
     "output_type": "stream",
     "text": [
      "The list has 5 elements.\n"
     ]
    }
   ],
   "source": [
    "fruits=[\"apple\",\"orange\",\"strawberry\",\"melon\",\"cherry\"]\n",
    "def my_function():\n",
    "    if len(fruits)>0:\n",
    "        value_count=len(fruits)\n",
    "        print(f\"The list has {value_count} elements.\")\n",
    "    else:\n",
    "        print(\"Value Error. List shouldn't be empty.\")\n",
    "my_function()\n"
   ]
  },
  {
   "cell_type": "code",
   "execution_count": 11,
   "metadata": {},
   "outputs": [],
   "source": [
    "#solution 2 \n",
    "def list_size(my_list):\n",
    "    size = len(my_list)\n",
    "    if (size > 0):\n",
    "        return f\"List have {size} elements.\"\n",
    "    return \"Error! No elements.\""
   ]
  },
  {
   "cell_type": "code",
   "execution_count": 12,
   "metadata": {},
   "outputs": [
    {
     "data": {
      "text/plain": [
       "'List have 6 elements.'"
      ]
     },
     "execution_count": 12,
     "metadata": {},
     "output_type": "execute_result"
    }
   ],
   "source": [
    "new_solution_size = [1, 2, 3, \"a\", \"b\", \"c\"]\n",
    "list_size(new_solution_size)"
   ]
  },
  {
   "cell_type": "markdown",
   "metadata": {},
   "source": [
    "### Exercise 2:\n",
    "Write a function that receives a string as parameter and return the number of each character in it."
   ]
  },
  {
   "cell_type": "code",
   "execution_count": 2,
   "metadata": {},
   "outputs": [
    {
     "name": "stdout",
     "output_type": "stream",
     "text": [
      "The character numbers of my string are {'I': 1, 'a': 3, 'm': 2, 'C': 2, 'u': 4, 'r': 4, 'i': 1, 'o': 2, 's': 2, 'A': 1, 'b': 2, 't': 2, 'T': 1, 'h': 2, 'e': 3, 'c': 1, 'N': 1}\n"
     ]
    }
   ],
   "source": [
    "\n",
    "string=\"IamCuriousAboutTheCharacterNumbers\"\n",
    "character_numbers={}\n",
    "for i in string:\n",
    "    if i in character_numbers:\n",
    "        character_numbers[i]+=1\n",
    "    else:\n",
    "        character_numbers[i]=1\n",
    "print(f\"The character numbers of my string are {character_numbers}\")\n"
   ]
  },
  {
   "cell_type": "code",
   "execution_count": 9,
   "metadata": {},
   "outputs": [],
   "source": [
    "#Solution2\n",
    "from collections import Counter\n",
    "def string_char(my_string):\n",
    "    result=Counter(my_string).most_common(len(my_string))\n",
    "    return result"
   ]
  },
  {
   "cell_type": "code",
   "execution_count": 10,
   "metadata": {},
   "outputs": [
    {
     "data": {
      "text/plain": [
       "[('i', 3),\n",
       " ('s', 3),\n",
       " (' ', 3),\n",
       " ('T', 1),\n",
       " ('h', 1),\n",
       " ('a', 1),\n",
       " ('t', 1),\n",
       " ('r', 1),\n",
       " ('n', 1),\n",
       " ('g', 1)]"
      ]
     },
     "execution_count": 10,
     "metadata": {},
     "output_type": "execute_result"
    }
   ],
   "source": [
    "fatmanur_string=\"This is a string\"\n",
    "string_char(fatmanur_string)"
   ]
  }
 ],
 "metadata": {
  "kernelspec": {
   "display_name": "Python 3",
   "language": "python",
   "name": "python3"
  },
  "language_info": {
   "codemirror_mode": {
    "name": "ipython",
    "version": 3
   },
   "file_extension": ".py",
   "mimetype": "text/x-python",
   "name": "python",
   "nbconvert_exporter": "python",
   "pygments_lexer": "ipython3",
   "version": "3.11.5"
  }
 },
 "nbformat": 4,
 "nbformat_minor": 2
}
