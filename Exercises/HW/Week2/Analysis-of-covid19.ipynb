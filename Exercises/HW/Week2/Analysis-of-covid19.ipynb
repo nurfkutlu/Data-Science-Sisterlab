{
 "cells": [
  {
   "cell_type": "markdown",
   "metadata": {},
   "source": [
    "## Week 2"
   ]
  },
  {
   "cell_type": "markdown",
   "metadata": {},
   "source": [
    "### Exercise:\n",
    "Use and experience methods from previous lessons with given data. Try to search for other pandas methods to analyze the data such as `groupby()` and `read_csv()`."
   ]
  },
  {
   "cell_type": "code",
   "execution_count": 6,
   "metadata": {},
   "outputs": [],
   "source": [
    "# You can find covid related data under project's data folder \n",
    "base_url = \"../data/covid/\"\n",
    "infected_dataset_url = base_url + \"time_series_covid19_confirmed_global.csv\"\n",
    "recovered_dataset_url = base_url + \"time_series_covid19_recovered_global.csv\"\n",
    "deaths_dataset_url = base_url + \"time_series_covid19_deaths_global.csv\""
   ]
  },
  {
   "cell_type": "markdown",
   "metadata": {},
   "source": [
    "#### Solution:"
   ]
  },
  {
   "cell_type": "code",
   "execution_count": 2,
   "metadata": {},
   "outputs": [],
   "source": [
    "import pandas as pd\n",
    "import numpy as np\n",
    "import matplotlib.pyplot as plt"
   ]
  },
  {
   "cell_type": "markdown",
   "metadata": {},
   "source": [
    "Firstly, I load the datasets. I uploaded to my computer file from github file .[data sets](https://github.com/Ada-Lovelace-Akademi/data-science/tree/main/data/covid)"
   ]
  },
  {
   "cell_type": "markdown",
   "metadata": {},
   "source": [
    "Fistly, we can look up what about csv files . We have 3 CSV files and\n",
    "titles are infected, recovered and deaths. If we want to explain the means that as sum ;\n",
    "\n",
    "-**Infected Indivuals**: covid + \n",
    "\n",
    "-**Recovered**        : From covid + to Covid -\n",
    "\n",
    "-**Deaths**            : From Covid + to death\n",
    "\n",
    "For details we can continue."
   ]
  },
  {
   "cell_type": "code",
   "execution_count": 11,
   "metadata": {},
   "outputs": [],
   "source": [
    "#Infected indivuals\n",
    "infected=pd.read_csv('C:/Users/Hp/Desktop/SistersLab/Data-Science-Sisterlab/Data-Science-Sisterlab/Exercises/HW/Week2/data/time_series_covid19_confirmed_global.csv')\n",
    "# I receive an error code bacause of \\ before the files steps. I turn all \\ to /. It's okay now."
   ]
  }
 ],
 "metadata": {
  "kernelspec": {
   "display_name": "Python 3",
   "language": "python",
   "name": "python3"
  },
  "language_info": {
   "codemirror_mode": {
    "name": "ipython",
    "version": 3
   },
   "file_extension": ".py",
   "mimetype": "text/x-python",
   "name": "python",
   "nbconvert_exporter": "python",
   "pygments_lexer": "ipython3",
   "version": "3.9.13"
  }
 },
 "nbformat": 4,
 "nbformat_minor": 2
}
