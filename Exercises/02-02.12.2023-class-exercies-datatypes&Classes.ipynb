{
 "cells": [
  {
   "cell_type": "markdown",
   "metadata": {},
   "source": [
    "Week2 02.12.2023 \n",
    "Boolean\n",
    "Strings\n",
    "Comparisons- **işlem önceliği**\n"
   ]
  },
  {
   "cell_type": "code",
   "execution_count": 13,
   "metadata": {},
   "outputs": [],
   "source": [
    "#düz örnek\n",
    "\"\"\" def kullandiğimiz zaman print yerine return kullaniriz ki ilerde de function kullandiğimizda az yer kaplayarak \n",
    "ve gereksizleri çaliştirmadan devam edelim\"\"\"\n",
    "test_score=80\n",
    "age=18\n",
    "#age between 16-18 intern,score 80 or above, intern driver\n",
    "#age above 18,score score 80 or above, driver\n",
    "#age above 18, score score 60-80 or above,supervised-driver\n",
    "def driver_status1(age,test_score):\n",
    "    if 16<age<18 and test_score>=80:\n",
    "        return \"intern driver\"\n",
    "    elif 16<age<18 and 60<test_score<80:\n",
    "        return \" supervised-intern-driver\"\n",
    "    elif age>=18 and test_score>=80:\n",
    "        return \" driver\"\n",
    "    elif age>18 and 60<test_score<80:\n",
    "        return \"supervised-driver\"\n",
    "    return \"Unlicensed\"\n"
   ]
  },
  {
   "cell_type": "code",
   "execution_count": 14,
   "metadata": {},
   "outputs": [
    {
     "data": {
      "text/plain": [
       "' driver'"
      ]
     },
     "execution_count": 14,
     "metadata": {},
     "output_type": "execute_result"
    }
   ],
   "source": [
    "driver_status1(age,test_score)"
   ]
  },
  {
   "cell_type": "code",
   "execution_count": 4,
   "metadata": {},
   "outputs": [],
   "source": [
    "#içiçe geçmiş çözüm\n",
    "test_score=80\n",
    "age=18\n",
    "#age between 16-18 intern,score 80 or above, intern driver\n",
    "#age above 18,score score 80 or above, driver\n",
    "#age above 18, score score 60-80 or above,supervised-driver\n",
    "def driver_status(age,test_score):\n",
    "    if test_score>=80:\n",
    "        if 18>age>16:\n",
    "            return \"intern_driver\"\n",
    "        elif age>=18:\n",
    "            return \"driver\"\n",
    "    elif 80>test_score>=60:\n",
    "        if 18>age>16:\n",
    "            return \"supervised_intern_driver\"\n",
    "        elif age>=18:\n",
    "            return \"driver\"\n",
    "    return \"Unlicenced\"\n"
   ]
  },
  {
   "cell_type": "code",
   "execution_count": 5,
   "metadata": {},
   "outputs": [
    {
     "data": {
      "text/plain": [
       "'driver'"
      ]
     },
     "execution_count": 5,
     "metadata": {},
     "output_type": "execute_result"
    }
   ],
   "source": [
    "driver_status(age,test_score)"
   ]
  },
  {
   "cell_type": "markdown",
   "metadata": {},
   "source": [
    "**Comparisons**"
   ]
  },
  {
   "cell_type": "code",
   "execution_count": 1,
   "metadata": {},
   "outputs": [
    {
     "data": {
      "text/plain": [
       "True"
      ]
     },
     "execution_count": 1,
     "metadata": {},
     "output_type": "execute_result"
    }
   ],
   "source": [
    "15!=10"
   ]
  },
  {
   "cell_type": "code",
   "execution_count": 5,
   "metadata": {},
   "outputs": [
    {
     "data": {
      "text/plain": [
       "False"
      ]
     },
     "execution_count": 5,
     "metadata": {},
     "output_type": "execute_result"
    }
   ],
   "source": [
    "\"Ada\"==\"Lovelance\" #Boolean kontrolü yapar. == "
   ]
  },
  {
   "cell_type": "code",
   "execution_count": 4,
   "metadata": {},
   "outputs": [
    {
     "name": "stdout",
     "output_type": "stream",
     "text": [
      "True\n",
      "False\n"
     ]
    }
   ],
   "source": [
    "my_list=[1,2,3]\n",
    "print(3 in my_list )\n",
    "print(1 not in my_list)"
   ]
  },
  {
   "cell_type": "markdown",
   "metadata": {},
   "source": [
    "List"
   ]
  },
  {
   "cell_type": "code",
   "execution_count": 9,
   "metadata": {},
   "outputs": [
    {
     "name": "stdout",
     "output_type": "stream",
     "text": [
      "[1, 'string', [1, 2, 3]]\n",
      "[]\n",
      "['s', 't', 'r', 'i', 'n', 'g']\n"
     ]
    }
   ],
   "source": [
    "#List\n",
    "example_list=[1,\"string\",[1,2,3]]\n",
    "print(example_list)\n",
    "\n",
    "test_list=list()\n",
    "print(test_list)\n",
    "\n",
    "example_list2=list(\"string\") #sadece iterasyona izin veren objelerde kullanırız.(list method!)\n",
    "print(example_list2) "
   ]
  },
  {
   "cell_type": "code",
   "execution_count": 48,
   "metadata": {},
   "outputs": [
    {
     "name": "stdout",
     "output_type": "stream",
     "text": [
      "yellow\n",
      "purple\n",
      "black\n",
      "red\n"
     ]
    }
   ],
   "source": [
    "colors=[\"yellow\",\"purple\",\"black\",\"red\"]\n",
    "for color in colors:\n",
    "    print(color)"
   ]
  },
  {
   "cell_type": "code",
   "execution_count": 49,
   "metadata": {},
   "outputs": [
    {
     "name": "stdout",
     "output_type": "stream",
     "text": [
      "0:yellow\n",
      "1:purple\n",
      "2:black\n",
      "3:red\n"
     ]
    }
   ],
   "source": [
    "for index, color in enumerate(colors):\n",
    "    print(f\"{index}:{color}\")"
   ]
  },
  {
   "cell_type": "code",
   "execution_count": 18,
   "metadata": {},
   "outputs": [
    {
     "data": {
      "text/plain": [
       "[1, 8, 27, 64, 125, 216, 343, 512, 729, 1000]"
      ]
     },
     "execution_count": 18,
     "metadata": {},
     "output_type": "execute_result"
    }
   ],
   "source": [
    "#add someting to list\n",
    "cubes_to_1000=[]\n",
    "\n",
    "#range : start, stop\n",
    "#list.append(<item>) : neyi eklemek istiyorsak \n",
    "for i in range(1,11):\n",
    "    cubes_to_1000.append(i**3)\n",
    "cubes_to_1000\n"
   ]
  },
  {
   "cell_type": "code",
   "execution_count": 51,
   "metadata": {},
   "outputs": [
    {
     "name": "stdout",
     "output_type": "stream",
     "text": [
      "['yellow', 'purple', 'black', 'red', 'Orange']\n"
     ]
    }
   ],
   "source": [
    "print(colors) #yeni bir eleman ekleyelim"
   ]
  },
  {
   "cell_type": "code",
   "execution_count": 52,
   "metadata": {},
   "outputs": [
    {
     "name": "stdout",
     "output_type": "stream",
     "text": [
      "None\n"
     ]
    }
   ],
   "source": [
    "# new_colors=colors.append(\"white\")\n",
    "#print(new_colors)  #Wrong method first you should  equal to colors\n",
    "new_colors=colors.append(\"Orange\")\n",
    "print(new_colors)"
   ]
  },
  {
   "cell_type": "code",
   "execution_count": 41,
   "metadata": {},
   "outputs": [
    {
     "data": {
      "text/plain": [
       "'Orange'"
      ]
     },
     "execution_count": 41,
     "metadata": {},
     "output_type": "execute_result"
    }
   ],
   "source": [
    "colors.pop()"
   ]
  },
  {
   "cell_type": "code",
   "execution_count": 42,
   "metadata": {},
   "outputs": [
    {
     "name": "stdout",
     "output_type": "stream",
     "text": [
      "['yellow', 'purple', 'black', 'red']\n"
     ]
    }
   ],
   "source": [
    "print(colors)"
   ]
  },
  {
   "cell_type": "code",
   "execution_count": 43,
   "metadata": {},
   "outputs": [
    {
     "name": "stdout",
     "output_type": "stream",
     "text": [
      "['yellow', 'purple', 'black', 'red', 'black', 'black']\n",
      "['yellow', 'purple', 'black', 'red']\n"
     ]
    }
   ],
   "source": [
    "new_colors.append(\"black\")\n",
    "print(new_colors)\n",
    "print(colors)  #bu örneğe bir bak\n",
    "#new_colors.<command>(\"item\")\n",
    "#remove\n",
    "#revers\n",
    "#sort(reverse=True)\n",
    "#index\n",
    "#get"
   ]
  },
  {
   "cell_type": "markdown",
   "metadata": {},
   "source": [
    "Tuples\n"
   ]
  },
  {
   "cell_type": "code",
   "execution_count": 72,
   "metadata": {},
   "outputs": [
    {
     "name": "stdout",
     "output_type": "stream",
     "text": [
      "(10,)\n",
      "('L', 'u', 'n', 'a')\n",
      "(10, 'okay', 'luna', 1)\n",
      "('eyes', 'noise', 'tale')\n",
      "<class 'tuple'>\n",
      "{'cat': 'yellow', 'dog': 'black', 'horse': 'brown'}\n"
     ]
    },
    {
     "data": {
      "text/plain": [
       "'brown'"
      ]
     },
     "execution_count": 72,
     "metadata": {},
     "output_type": "execute_result"
    }
   ],
   "source": [
    "#my_tuple=tuple()\n",
    "my_tuple=tuple([10])\n",
    "print(my_tuple)\n",
    "\n",
    "my_tuple1=tuple(\"Luna\")\n",
    "print(my_tuple1)\n",
    "\n",
    "my_tuple3=tuple([10,\"okay\",\"luna\",1])\n",
    "print(my_tuple3)\n",
    "\n",
    "#dictionary\n",
    "luna_species={\"eyes\":\"orange\",\n",
    "              \"noise\":\"small\",\n",
    "              \"tale\":\"cute\"}\n",
    "my_tuple4=tuple(luna_species)\n",
    "print(my_tuple4)\n",
    "\n",
    "\"\"\"tuple eklemesi yaparken eğer tek eleman kullanirsam virgül ile belirtmem gerekli\"\"\"\n",
    "my_new_tuple=(\"luna\",)\n",
    "print(type(my_new_tuple)) # eğer virgül koymazsam string ifade olarak alır\n",
    "\n",
    "animals=dict([(\"cat\",\"yellow\"),(\"dog\",\"black\"),(\"horse\",\"brown\")])\n",
    "print(animals)\n",
    "\n",
    "#animals[\"cat\"][\"colors\"]  #Bakalım buna!!\n",
    "animals.pop(\"horse\")\n",
    "\n"
   ]
  },
  {
   "cell_type": "code",
   "execution_count": 81,
   "metadata": {},
   "outputs": [],
   "source": [
    "animal_colors={\"cat\":\"yellow\",\n",
    "               \"dog\":\"black\",\n",
    "               \"horse\":\"brown\"\n",
    "               }"
   ]
  },
  {
   "cell_type": "code",
   "execution_count": 76,
   "metadata": {},
   "outputs": [
    {
     "name": "stdout",
     "output_type": "stream",
     "text": [
      "cat is yellow\n",
      "dog is black\n",
      "horse is brown\n"
     ]
    }
   ],
   "source": [
    "for animal,color in animal_colors.items():\n",
    "    print(f\"{animal} is {color}\")"
   ]
  },
  {
   "cell_type": "markdown",
   "metadata": {},
   "source": [
    "Sets"
   ]
  },
  {
   "cell_type": "code",
   "execution_count": null,
   "metadata": {},
   "outputs": [],
   "source": [
    "#sets are mutable\n",
    "#frozensets are immutable\n",
    "\n",
    "##methods\n",
    "#iteration\n",
    "#membership(in,not in) \n",
    "\"\"\"diğerlerinde verilerimiz büyükçe kaynak tüketimi artar fakat setlerde \n",
    "bu durum söz konusu değildir\"\"\"\n",
    "#len()\n",
    "#copy()\n"
   ]
  },
  {
   "cell_type": "code",
   "execution_count": null,
   "metadata": {},
   "outputs": [],
   "source": [
    "#sets do not support;\n",
    "##indexing\n",
    "##ordering,sorting\n",
    "##slicing\n",
    "##concat"
   ]
  },
  {
   "cell_type": "code",
   "execution_count": 77,
   "metadata": {},
   "outputs": [
    {
     "name": "stdout",
     "output_type": "stream",
     "text": [
      "<class 'set'>\n",
      "{'ada'}\n"
     ]
    }
   ],
   "source": [
    "my_set={\"ada\"}\n",
    "print(type(my_set))\n",
    "print(my_set)"
   ]
  },
  {
   "cell_type": "code",
   "execution_count": 78,
   "metadata": {},
   "outputs": [
    {
     "name": "stdout",
     "output_type": "stream",
     "text": [
      "{'marry', 'lovelace', 'ada', 'albert'}\n"
     ]
    }
   ],
   "source": [
    "my_set={\"ada\",\"lovelace\",\"marry\",\"albert\",\"ada\"}\n",
    "print(my_set)"
   ]
  },
  {
   "cell_type": "code",
   "execution_count": 79,
   "metadata": {},
   "outputs": [
    {
     "name": "stdout",
     "output_type": "stream",
     "text": [
      "{'cat', 'horse', 'dog'}\n"
     ]
    }
   ],
   "source": [
    "animal_sets=set(animal_colors)\n",
    "print(animal_sets)"
   ]
  },
  {
   "cell_type": "code",
   "execution_count": 82,
   "metadata": {},
   "outputs": [
    {
     "name": "stdout",
     "output_type": "stream",
     "text": [
      "{'brown', 'yellow', 'black'}\n"
     ]
    }
   ],
   "source": [
    "animal_colors={\"cat\":\"yellow\",\n",
    "               \"dog\":\"black\",\n",
    "               \"horse\":\"brown\",\n",
    "              \"bear\":\"brown\" }\n",
    "animal_set=set(animal_colors.values()) #valueleri tekleyip sonuçlar\n",
    "print(animal_set)"
   ]
  },
  {
   "cell_type": "code",
   "execution_count": 85,
   "metadata": {},
   "outputs": [
    {
     "name": "stdout",
     "output_type": "stream",
     "text": [
      "{9, 225}\n"
     ]
    }
   ],
   "source": [
    "numbers=[1,1,1,2,2,2,2,3,4,4,5,15]\n",
    "calculated_numbers={number**2 for number in numbers if number %3==0} #incele\n",
    "print(calculated_numbers) #output : birbirisinin aynısı olan işlemlerden kurtulmuş olduk."
   ]
  },
  {
   "cell_type": "code",
   "execution_count": 95,
   "metadata": {},
   "outputs": [],
   "source": [
    "def calculated_numbers1(numbers):\n",
    "    for number in numbers:\n",
    "        square=number**2\n",
    "    if square %3==0: #incele\n",
    "        return square"
   ]
  },
  {
   "cell_type": "code",
   "execution_count": 96,
   "metadata": {},
   "outputs": [
    {
     "data": {
      "text/plain": [
       "225"
      ]
     },
     "execution_count": 96,
     "metadata": {},
     "output_type": "execute_result"
    }
   ],
   "source": [
    "numbers=[1,1,1,2,2,2,2,3,4,4,5,15]\n",
    "calculated_numbers1(numbers)"
   ]
  },
  {
   "cell_type": "code",
   "execution_count": 97,
   "metadata": {},
   "outputs": [],
   "source": [
    "def calculated_numbers2(numbers):\n",
    "    sonuc_listesi=[]\n",
    "    for number in numbers:\n",
    "     square=number**2\n",
    "    if square %3==0: #incele\n",
    "        sonuc_listesi.append(square)\n",
    "        return square\n",
    "    return set(sonuc_listesi)     #9 ve 225 gelmeli bir bak !!!"
   ]
  },
  {
   "cell_type": "code",
   "execution_count": 98,
   "metadata": {},
   "outputs": [
    {
     "data": {
      "text/plain": [
       "225"
      ]
     },
     "execution_count": 98,
     "metadata": {},
     "output_type": "execute_result"
    }
   ],
   "source": [
    "numbers=[1,1,1,2,2,2,2,3,4,4,5,15]\n",
    "calculated_numbers2(numbers)"
   ]
  },
  {
   "cell_type": "code",
   "execution_count": null,
   "metadata": {},
   "outputs": [],
   "source": [
    "#isdisjoint\n",
    "#issubset(animals)\n",
    "#issuperset  #hocadan bakılacak !!\n",
    "#"
   ]
  },
  {
   "cell_type": "markdown",
   "metadata": {},
   "source": [
    "Classes"
   ]
  },
  {
   "cell_type": "code",
   "execution_count": null,
   "metadata": {},
   "outputs": [],
   "source": [
    "#syn class. Büyükharflerle başlarız\n",
    "class MyClass:    #class=hayvanlar, #subclass:memeliler ....\n",
    "\n",
    "    pass"
   ]
  },
  {
   "cell_type": "code",
   "execution_count": null,
   "metadata": {},
   "outputs": [],
   "source": [
    "#function template\n",
    "def myfunction():\n",
    "    \"\"\"\n",
    "    :parametreler vs eklenebilir, before hand\n",
    "\n",
    "    \"\"\"\n",
    "    # this function will calculate something\n",
    "\n",
    "    pass #hayalet gibi algılar pass burada(function) kullanılmaz"
   ]
  },
  {
   "cell_type": "code",
   "execution_count": 2,
   "metadata": {},
   "outputs": [],
   "source": [
    "class Animal:\n",
    "    isalive=True\n",
    "    age=0 #classtan yeni bir instans"
   ]
  },
  {
   "cell_type": "code",
   "execution_count": 3,
   "metadata": {},
   "outputs": [
    {
     "name": "stdout",
     "output_type": "stream",
     "text": [
      "<__main__.Animal object at 0x0000012012411990>\n",
      "<class '__main__.Animal'>\n"
     ]
    }
   ],
   "source": [
    "my_cat=Animal()\n",
    "print(my_cat)\n",
    "print(type(my_cat))"
   ]
  },
  {
   "cell_type": "code",
   "execution_count": 4,
   "metadata": {},
   "outputs": [
    {
     "data": {
      "text/plain": [
       "True"
      ]
     },
     "execution_count": 4,
     "metadata": {},
     "output_type": "execute_result"
    }
   ],
   "source": [
    "my_cat.isalive #attribute olduğu için patantez kullanmıyoruz"
   ]
  },
  {
   "cell_type": "code",
   "execution_count": 5,
   "metadata": {},
   "outputs": [
    {
     "data": {
      "text/plain": [
       "0"
      ]
     },
     "execution_count": 5,
     "metadata": {},
     "output_type": "execute_result"
    }
   ],
   "source": [
    "my_cat.age"
   ]
  },
  {
   "cell_type": "code",
   "execution_count": 7,
   "metadata": {},
   "outputs": [],
   "source": [
    "my_second_cat=Animal()\n"
   ]
  },
  {
   "cell_type": "code",
   "execution_count": 8,
   "metadata": {},
   "outputs": [
    {
     "data": {
      "text/plain": [
       "True"
      ]
     },
     "execution_count": 8,
     "metadata": {},
     "output_type": "execute_result"
    }
   ],
   "source": [
    "my_cat.age==my_second_cat.age"
   ]
  },
  {
   "cell_type": "code",
   "execution_count": 9,
   "metadata": {},
   "outputs": [],
   "source": [
    "my_cat.age=2"
   ]
  },
  {
   "cell_type": "code",
   "execution_count": 10,
   "metadata": {},
   "outputs": [
    {
     "data": {
      "text/plain": [
       "False"
      ]
     },
     "execution_count": 10,
     "metadata": {},
     "output_type": "execute_result"
    }
   ],
   "source": [
    "my_cat.age==my_second_cat.age"
   ]
  },
  {
   "cell_type": "code",
   "execution_count": 11,
   "metadata": {},
   "outputs": [],
   "source": [
    "Animal.isalive=False"
   ]
  },
  {
   "cell_type": "code",
   "execution_count": 12,
   "metadata": {},
   "outputs": [
    {
     "name": "stdout",
     "output_type": "stream",
     "text": [
      "False\n",
      "False\n"
     ]
    }
   ],
   "source": [
    "print(my_cat.isalive)\n",
    "print(my_second_cat.isalive) #Hiyerarşik şekilde oluşutulmuşlara etki edebiliyoruz."
   ]
  },
  {
   "cell_type": "code",
   "execution_count": null,
   "metadata": {},
   "outputs": [],
   "source": [
    "Animal.isalive=True"
   ]
  },
  {
   "cell_type": "code",
   "execution_count": 17,
   "metadata": {},
   "outputs": [],
   "source": [
    "class Cat:\n",
    "    isalive=True\n",
    "    age=0\n",
    "\n",
    "    def __init__(self,location):\n",
    "        self.location=location.values()"
   ]
  },
  {
   "cell_type": "code",
   "execution_count": 19,
   "metadata": {},
   "outputs": [
    {
     "data": {
      "text/plain": [
       "dict_values(['home'])"
      ]
     },
     "execution_count": 19,
     "metadata": {},
     "output_type": "execute_result"
    }
   ],
   "source": [
    "boncuk=Cat(location={\"loc\":\"home\"})\n",
    "boncuk.location"
   ]
  },
  {
   "cell_type": "code",
   "execution_count": 31,
   "metadata": {},
   "outputs": [],
   "source": [
    "#Methd ekle\n",
    "class Cat1:\n",
    "    isalive=True\n",
    "    age=0\n",
    "    sound=\"meow\" #ekledik, eklemeden hata alırdık\n",
    "\n",
    "    def __init__(self,location):\n",
    "        self.location=location.values()\n",
    "    def sound(self): #method1\n",
    "        return \"meow\"\n",
    "    def aged(self): #method2 #çağırdığımda aktifleşir. Self oluşuturulan attribute çağrıldığında gelir. cat1'e dahil değildir.\n",
    "        Cat1.age+=1"
   ]
  },
  {
   "cell_type": "code",
   "execution_count": 32,
   "metadata": {},
   "outputs": [
    {
     "data": {
      "text/plain": [
       "dict_values(['home'])"
      ]
     },
     "execution_count": 32,
     "metadata": {},
     "output_type": "execute_result"
    }
   ],
   "source": [
    "boncuk1=Cat1(location={\"loc\":\"home\"}) #boncukları ayırmamız gerekli\n",
    "boncuk1.location"
   ]
  },
  {
   "cell_type": "code",
   "execution_count": 34,
   "metadata": {},
   "outputs": [
    {
     "data": {
      "text/plain": [
       "'meow'"
      ]
     },
     "execution_count": 34,
     "metadata": {},
     "output_type": "execute_result"
    }
   ],
   "source": [
    "boncuk1.sound()"
   ]
  },
  {
   "cell_type": "code",
   "execution_count": 35,
   "metadata": {},
   "outputs": [],
   "source": [
    "boncuk1.aged()"
   ]
  },
  {
   "cell_type": "code",
   "execution_count": 36,
   "metadata": {},
   "outputs": [
    {
     "data": {
      "text/plain": [
       "1"
      ]
     },
     "execution_count": 36,
     "metadata": {},
     "output_type": "execute_result"
    }
   ],
   "source": [
    "boncuk1.age #1 arttı"
   ]
  },
  {
   "cell_type": "markdown",
   "metadata": {},
   "source": [
    "##packing and unpacking##"
   ]
  },
  {
   "cell_type": "code",
   "execution_count": null,
   "metadata": {},
   "outputs": [],
   "source": []
  }
 ],
 "metadata": {
  "kernelspec": {
   "display_name": "base",
   "language": "python",
   "name": "python3"
  },
  "language_info": {
   "codemirror_mode": {
    "name": "ipython",
    "version": 3
   },
   "file_extension": ".py",
   "mimetype": "text/x-python",
   "name": "python",
   "nbconvert_exporter": "python",
   "pygments_lexer": "ipython3",
   "version": "3.11.5"
  }
 },
 "nbformat": 4,
 "nbformat_minor": 2
}
