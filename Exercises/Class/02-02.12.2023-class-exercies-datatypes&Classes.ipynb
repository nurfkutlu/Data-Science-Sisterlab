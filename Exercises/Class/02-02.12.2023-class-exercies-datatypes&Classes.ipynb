{
 "cells": [
  {
   "cell_type": "markdown",
   "metadata": {},
   "source": [
    "Week2 02.12.2023 \n",
    "Boolean\n",
    "Strings\n",
    "Comparisons- **işlem önceliği**\n"
   ]
  },
  {
   "cell_type": "code",
   "execution_count": 13,
   "metadata": {},
   "outputs": [],
   "source": [
    "#düz örnek\n",
    "\"\"\" def kullandiğimiz zaman print yerine return kullaniriz ki ilerde de function kullandiğimizda az yer kaplayarak \n",
    "ve gereksizleri çaliştirmadan devam edelim\"\"\"\n",
    "test_score=80\n",
    "age=18\n",
    "#age between 16-18 intern,score 80 or above, intern driver\n",
    "#age above 18,score score 80 or above, driver\n",
    "#age above 18, score score 60-80 or above,supervised-driver\n",
    "def driver_status1(age,test_score):\n",
    "    if 16<age<18 and test_score>=80:\n",
    "        return \"intern driver\"\n",
    "    elif 16<age<18 and 60<test_score<80:\n",
    "        return \" supervised-intern-driver\"\n",
    "    elif age>=18 and test_score>=80:\n",
    "        return \" driver\"\n",
    "    elif age>18 and 60<test_score<80:\n",
    "        return \"supervised-driver\"\n",
    "    return \"Unlicensed\"\n"
   ]
  },
  {
   "cell_type": "code",
   "execution_count": 14,
   "metadata": {},
   "outputs": [
    {
     "data": {
      "text/plain": [
       "' driver'"
      ]
     },
     "execution_count": 14,
     "metadata": {},
     "output_type": "execute_result"
    }
   ],
   "source": [
    "driver_status1(age,test_score)"
   ]
  },
  {
   "cell_type": "code",
   "execution_count": 4,
   "metadata": {},
   "outputs": [],
   "source": [
    "#içiçe geçmiş çözüm\n",
    "test_score=80\n",
    "age=18\n",
    "#age between 16-18 intern,score 80 or above, intern driver\n",
    "#age above 18,score score 80 or above, driver\n",
    "#age above 18, score score 60-80 or above,supervised-driver\n",
    "def driver_status(age,test_score):\n",
    "    if test_score>=80:\n",
    "        if 18>age>16:\n",
    "            return \"intern_driver\"\n",
    "        elif age>=18:\n",
    "            return \"driver\"\n",
    "    elif 80>test_score>=60:\n",
    "        if 18>age>16:\n",
    "            return \"supervised_intern_driver\"\n",
    "        elif age>=18:\n",
    "            return \"driver\"\n",
    "    return \"Unlicenced\"\n"
   ]
  },
  {
   "cell_type": "code",
   "execution_count": 5,
   "metadata": {},
   "outputs": [
    {
     "data": {
      "text/plain": [
       "'driver'"
      ]
     },
     "execution_count": 5,
     "metadata": {},
     "output_type": "execute_result"
    }
   ],
   "source": [
    "driver_status(age,test_score)"
   ]
  },
  {
   "cell_type": "markdown",
   "metadata": {},
   "source": [
    "Python Logical Operators\n",
    "\n",
    "**Boolean **\n"
   ]
  },
  {
   "cell_type": "code",
   "execution_count": 42,
   "metadata": {},
   "outputs": [
    {
     "name": "stdout",
     "output_type": "stream",
     "text": [
      "False\n",
      "True\n",
      "False\n",
      "True\n",
      "True\n",
      "False\n"
     ]
    }
   ],
   "source": [
    "\"\"\"\n",
    "and &  --> Returns True if both statements are true      \n",
    "or  |  --> Returns True if one of the statements is true\n",
    "not != --> Reverse the result, returns False if the result is true\n",
    "\"\"\"\n",
    "result1 = 1 and 0\n",
    "print(bool(result1))\n",
    "\n",
    "print(True or False)\n",
    "\n",
    "print(not True and False) # işlem önceliği yok, siradan işlem dönüyor.\n",
    "print(not (True and False)) #işlem önceliği var , parantezde ilk işlem dönüyor.\n",
    "\n",
    "#Kontrol edelim \n",
    "print(1 == True)\n",
    "print(0 == True)"
   ]
  },
  {
   "cell_type": "code",
   "execution_count": 43,
   "metadata": {},
   "outputs": [
    {
     "name": "stdout",
     "output_type": "stream",
     "text": [
      "10 is greater than 5\n"
     ]
    }
   ],
   "source": [
    "first_number = 10\n",
    "second_number = 5\n",
    "if first_number > second_number:\n",
    "    print(f\"{first_number} is greater than {second_number}\")\n"
   ]
  },
  {
   "cell_type": "code",
   "execution_count": 44,
   "metadata": {},
   "outputs": [
    {
     "name": "stdout",
     "output_type": "stream",
     "text": [
      "10 is equal with 10\n"
     ]
    }
   ],
   "source": [
    "first_number1=10\n",
    "second_number1=10\n",
    "\n",
    "if first_number1 > second_number1:\n",
    "    print(f\"{first_number1} is greater than {second_number1}\")\n",
    "elif first_number1 == second_number1:\n",
    "    print(f\"{first_number1} is equal with {second_number1}\")\n",
    "else:\n",
    "    print(f\"{second_number1} is greater than {first_number1}\")"
   ]
  },
  {
   "cell_type": "markdown",
   "metadata": {},
   "source": [
    "**String Methods**"
   ]
  },
  {
   "cell_type": "code",
   "execution_count": 47,
   "metadata": {},
   "outputs": [
    {
     "name": "stdout",
     "output_type": "stream",
     "text": [
      "ada lovelace academy had started!\n",
      "Ada Lovelace Academy had started\n",
      "True\n",
      "Ada Lovelace Academy had started.\n",
      "32\n",
      "Ada Lovelace Academy had started!\n"
     ]
    }
   ],
   "source": [
    "# https://www.w3schools.com//python_strings_methods.asp     birçok method var.\n",
    "\n",
    "test_string = \"Ada Lovelace Academy had started!\"\n",
    "\n",
    "print(test_string.lower()) #Converts a string into lower case\n",
    " \n",
    "print(test_string.strip(\"!\")) #Returns a trimmed version of the string\n",
    "\n",
    "print(test_string.endswith('!')) #Returns true if the string ends with the specified value\n",
    "\n",
    "print(test_string.replace('!', '.')) #Returns a string where a specified value is replaced with a specified value\n",
    "\n",
    "print(test_string.index('!')) #\tSearches the string for a specified value and returns the position of where it was found\n",
    "\n",
    "print(test_string)\n"
   ]
  },
  {
   "cell_type": "markdown",
   "metadata": {},
   "source": [
    "**Comparisons**"
   ]
  },
  {
   "cell_type": "code",
   "execution_count": null,
   "metadata": {},
   "outputs": [],
   "source": [
    "\"\"\"\n",
    "Comparison operators are used to compare two values:\n",
    "\n",
    "==\t    Equal\t                    x == y\n",
    "=\t    Not equal\t                x != y\n",
    ">\t    Greater than\t            x > y\t\n",
    "<\t    Less than               \tx < y\t\n",
    ">=\t    Greater than or equal to\tx >= y\t\n",
    "<=\t    Less than or equal to\t    x <= y\n",
    "\"\"\""
   ]
  },
  {
   "cell_type": "code",
   "execution_count": 1,
   "metadata": {},
   "outputs": [
    {
     "data": {
      "text/plain": [
       "True"
      ]
     },
     "execution_count": 1,
     "metadata": {},
     "output_type": "execute_result"
    }
   ],
   "source": [
    "15!=10"
   ]
  },
  {
   "cell_type": "code",
   "execution_count": 5,
   "metadata": {},
   "outputs": [
    {
     "data": {
      "text/plain": [
       "False"
      ]
     },
     "execution_count": 5,
     "metadata": {},
     "output_type": "execute_result"
    }
   ],
   "source": [
    "\"Ada\"==\"Lovelance\" #Boolean kontrolü yapar. == "
   ]
  },
  {
   "cell_type": "code",
   "execution_count": 4,
   "metadata": {},
   "outputs": [
    {
     "name": "stdout",
     "output_type": "stream",
     "text": [
      "True\n",
      "False\n"
     ]
    }
   ],
   "source": [
    "my_list=[1,2,3]\n",
    "print(3 in my_list )\n",
    "print(1 not in my_list)"
   ]
  },
  {
   "cell_type": "markdown",
   "metadata": {},
   "source": [
    "**List**"
   ]
  },
  {
   "cell_type": "code",
   "execution_count": null,
   "metadata": {},
   "outputs": [],
   "source": [
    "# List methods    <https://www.w3schools.com/python/python_lists_methods.asp >\n",
    "\n",
    "\n",
    "\"\"\" \n",
    "Lists are used to store multiple items in a single variable.\n",
    "\n",
    "Lists are one of 4 built-in data types in Python used to store collections of data, the other 3 are ;\n",
    "*Tuple\n",
    "*Set\n",
    "*Dictionary\n",
    " all with different qualities and usage.\n",
    "\n",
    "List       is a collection which is ordered and changeable. Allows duplicate members.\n",
    "Tuple      is a collection which is ordered and unchangeable. Allows duplicate members.\n",
    "Set        is a collection which is unordered, unchangeable*, and unindexed. No duplicate members.\n",
    "Dictionary is a collection which is ordered** and changeable. No duplicate members.\n",
    "\n",
    "Lists are created using square brackets:\n",
    "\"\"\""
   ]
  },
  {
   "cell_type": "code",
   "execution_count": 9,
   "metadata": {},
   "outputs": [
    {
     "name": "stdout",
     "output_type": "stream",
     "text": [
      "[1, 'string', [1, 2, 3]]\n",
      "[]\n",
      "['s', 't', 'r', 'i', 'n', 'g']\n"
     ]
    }
   ],
   "source": [
    "#List\n",
    "example_list=[1,\"string\",[1,2,3]]\n",
    "print(example_list)\n",
    "\n",
    "test_list=list()\n",
    "print(test_list)\n",
    "\n",
    "example_list2=list(\"string\") #sadece iterasyona izin veren objelerde kullaniriz.(list method!)\n",
    "print(example_list2) "
   ]
  },
  {
   "cell_type": "code",
   "execution_count": 82,
   "metadata": {},
   "outputs": [
    {
     "name": "stdout",
     "output_type": "stream",
     "text": [
      "yellow\n",
      "green\n",
      "red\n",
      "blue\n",
      "purple\n"
     ]
    }
   ],
   "source": [
    "colors=[\"yellow\", \"green\", \"red\", \"blue\", \"purple\"]\n",
    "for color in colors:\n",
    "    print(color)"
   ]
  },
  {
   "cell_type": "code",
   "execution_count": 49,
   "metadata": {},
   "outputs": [
    {
     "data": {
      "text/plain": [
       "str"
      ]
     },
     "execution_count": 49,
     "metadata": {},
     "output_type": "execute_result"
    }
   ],
   "source": [
    "type(color)"
   ]
  },
  {
   "cell_type": "code",
   "execution_count": 53,
   "metadata": {},
   "outputs": [
    {
     "name": "stdout",
     "output_type": "stream",
     "text": [
      "0:yellow\n",
      "1:green\n",
      "2:red\n",
      "3:blue\n",
      "4:purple\n"
     ]
    }
   ],
   "source": [
    "\"\"\" \n",
    "enumerate() methodu itere edilebilir bir objenin(list, string, tuple vb) \n",
    "itemlarina birer index numarasi verir.\n",
    "\"\"\"\n",
    "\n",
    "\"\"\" \n",
    "iterasyon ;\n",
    "İterasyon, bir veri kümesindeki her öğenin sirasiyla elde edilmesi işlemidir. \n",
    "Örneğin, bir liste içindeki her elemani sirayla almak, bir dosyadaki her satiri okumak \n",
    "veya bir sözlükteki her anahtari ve değeri elde etmek, iterasyon örneklerindendir. \n",
    "Python 'da iterasyon yapmak için “for” döngüsü kullanilabilir ve \n",
    "bu döngüyü kullanirken arka planda iteratorler çalişir\n",
    "\n",
    "\"\"\"\n",
    "#count ile de yapılabilir alternatifine ekstra bir dönüt.\n",
    "\n",
    "for index, color in enumerate(colors): #enumarate\n",
    "    print(f\"{index}:{color}\")"
   ]
  },
  {
   "cell_type": "code",
   "execution_count": 18,
   "metadata": {},
   "outputs": [
    {
     "data": {
      "text/plain": [
       "[1, 8, 27, 64, 125, 216, 343, 512, 729, 1000]"
      ]
     },
     "execution_count": 18,
     "metadata": {},
     "output_type": "execute_result"
    }
   ],
   "source": [
    "#add someting to list\n",
    "cubes_to_1000=[]\n",
    "\n",
    "#range : start, stop\n",
    "#list.append(<item>) : neyi eklemek istiyorsak \n",
    "for i in range(1,11):\n",
    "    cubes_to_1000.append(i**3)\n",
    "cubes_to_1000\n"
   ]
  },
  {
   "cell_type": "code",
   "execution_count": 62,
   "metadata": {},
   "outputs": [
    {
     "name": "stdout",
     "output_type": "stream",
     "text": [
      "['yellow', 'green', 'red', 'blue', 'purple']\n"
     ]
    }
   ],
   "source": [
    "print(colors) #yeni bir eleman ekleyelim"
   ]
  },
  {
   "cell_type": "code",
   "execution_count": 63,
   "metadata": {},
   "outputs": [
    {
     "name": "stdout",
     "output_type": "stream",
     "text": [
      "['yellow', 'green', 'red', 'blue', 'purple']\n"
     ]
    }
   ],
   "source": [
    "new_colors = colors\n",
    "print(new_colors)"
   ]
  },
  {
   "cell_type": "code",
   "execution_count": 65,
   "metadata": {},
   "outputs": [
    {
     "name": "stdout",
     "output_type": "stream",
     "text": [
      "['yellow', 'green', 'red', 'blue', 'purple', 'orange', 'orange']\n",
      "['yellow', 'green', 'red', 'blue', 'purple', 'orange', 'orange']\n"
     ]
    }
   ],
   "source": [
    "# new_colors=colors.append(\"white\")\n",
    "#print(new_colors)  #Wrong method first you should  equal to colors\n",
    "new_colors.append(\"orange\")\n",
    "print(new_colors)\n",
    "print(colors)\n"
   ]
  },
  {
   "cell_type": "code",
   "execution_count": 68,
   "metadata": {},
   "outputs": [
    {
     "data": {
      "text/plain": [
       "'orange'"
      ]
     },
     "execution_count": 68,
     "metadata": {},
     "output_type": "execute_result"
    }
   ],
   "source": [
    "colors.pop()"
   ]
  },
  {
   "cell_type": "code",
   "execution_count": 76,
   "metadata": {},
   "outputs": [
    {
     "name": "stdout",
     "output_type": "stream",
     "text": [
      "['yellow', 'green', 'red', 'blue', 'purple']\n",
      "['yellow', 'green', 'red', 'blue', 'purple']\n"
     ]
    }
   ],
   "source": [
    "print(colors)\n",
    "print(new_colors)  #yukarıda new_colors=colors yaptığımız için output dublicate"
   ]
  },
  {
   "cell_type": "code",
   "execution_count": 83,
   "metadata": {},
   "outputs": [
    {
     "name": "stdout",
     "output_type": "stream",
     "text": [
      "['yellow', 'green', 'red', 'blue', 'purple']\n"
     ]
    }
   ],
   "source": [
    "newest_colors = colors.copy()  #burada bir eşitleme yapmadım ve copy yaparak verinin üzerinde oynama yaptım.\n",
    "print(newest_colors)"
   ]
  },
  {
   "cell_type": "code",
   "execution_count": 84,
   "metadata": {},
   "outputs": [
    {
     "name": "stdout",
     "output_type": "stream",
     "text": [
      "['yellow', 'green', 'red', 'blue', 'purple', 'black']\n",
      "['yellow', 'green', 'red', 'blue', 'purple']\n"
     ]
    }
   ],
   "source": [
    "#List Methods < https://www.w3schools.com/python/python_lists_methods.asp >\n",
    "\n",
    "newest_colors.append(\"black\")    #copy yaptığım için append kısmını ana değişkene atamadım. Sonuçlar aşağıda.\n",
    "print(newest_colors)\n",
    "print(colors)  \n",
    "#new_colors.<command>(\"item\")\n",
    "#remove\n",
    "#revers\n",
    "#sort(reverse=True)\n",
    "#index\n",
    "#get"
   ]
  },
  {
   "cell_type": "code",
   "execution_count": 85,
   "metadata": {},
   "outputs": [
    {
     "name": "stdout",
     "output_type": "stream",
     "text": [
      "['green', 'red', 'blue', 'purple', 'black']\n"
     ]
    }
   ],
   "source": [
    "newest_colors.remove(\"yellow\")\n",
    "print(newest_colors)"
   ]
  },
  {
   "cell_type": "code",
   "execution_count": 86,
   "metadata": {},
   "outputs": [
    {
     "data": {
      "text/plain": [
       "['yellow', 'red', 'purple', 'green', 'blue']"
      ]
     },
     "execution_count": 86,
     "metadata": {},
     "output_type": "execute_result"
    }
   ],
   "source": [
    "colors = [\"yellow\", \"green\", \"red\", \"blue\", \"purple\"]\n",
    "colors.sort(reverse=True)\n",
    "colors"
   ]
  },
  {
   "cell_type": "code",
   "execution_count": 87,
   "metadata": {},
   "outputs": [
    {
     "data": {
      "text/plain": [
       "1"
      ]
     },
     "execution_count": 87,
     "metadata": {},
     "output_type": "execute_result"
    }
   ],
   "source": [
    "colors.index(\"red\")"
   ]
  },
  {
   "cell_type": "markdown",
   "metadata": {},
   "source": [
    "Tuples\n",
    "\n",
    "\n",
    "-Tuple listeleri, list’lere benzer ancak farkı şudur ki, tuple içindeki elemanlar değiştirilemez. Ekleme, silme ve güncelleme yapamayız. Tuple liste elemanları, parantez ()ile oluşturulur. Aynı değere sahip olabilir(duplicate veri alabilir). \n",
    "\n",
    "-count() ve index() kullanırız."
   ]
  },
  {
   "cell_type": "code",
   "execution_count": 97,
   "metadata": {},
   "outputs": [
    {
     "name": "stdout",
     "output_type": "stream",
     "text": [
      "(10,)\n",
      "('L', 'u', 'n', 'a')\n",
      "(10, 'okay', 'luna', 1)\n",
      "('luna',)\n",
      "<class 'tuple'>\n"
     ]
    }
   ],
   "source": [
    "#my_tuple=tuple()\n",
    "my_tuple=tuple([10])\n",
    "print(my_tuple)\n",
    "\n",
    "my_tuple1=tuple(\"Luna\")\n",
    "print(my_tuple1)\n",
    "\n",
    "my_tuple3=tuple([10,\"okay\",\"luna\",1])\n",
    "print(my_tuple3)\n",
    "\n",
    "\n",
    "\"\"\"tuple eklemesi yaparken eğer tek eleman kullanirsam virgül ile belirtmem gerekli\"\"\"\n",
    "my_new_tuple=(\"luna\",)\n",
    "print(my_new_tuple)\n",
    "print(type(my_new_tuple)) # eğer virgül koymazsam string ifade olarak alır\n",
    "\n",
    "\n",
    "\n"
   ]
  },
  {
   "cell_type": "code",
   "execution_count": 94,
   "metadata": {},
   "outputs": [
    {
     "name": "stdout",
     "output_type": "stream",
     "text": [
      "('eyes', 'noise', 'tale')\n",
      "Luna species' type is <class 'dict'>\n"
     ]
    }
   ],
   "source": [
    "#dictionary\n",
    "luna_species={\"eyes\":\"orange\",\n",
    "              \"noise\":\"small\",\n",
    "              \"tale\":\"cute\"}\n",
    "my_tuple4=tuple(luna_species)\n",
    "print(my_tuple4)\n",
    "print(f\"Luna species' type is {type(luna_species)}\")\n"
   ]
  },
  {
   "cell_type": "code",
   "execution_count": 100,
   "metadata": {},
   "outputs": [
    {
     "name": "stdout",
     "output_type": "stream",
     "text": [
      "('eyes', 'noise', 'tale')\n",
      "<class 'tuple'>\n"
     ]
    }
   ],
   "source": [
    "#from dictionary to tuple\n",
    "luna_species_tuple = tuple(luna_species)  #başına gel neyse onu koy. tuple, dictionary vs\n",
    "print(luna_species_tuple)\n",
    "print(type(luna_species_tuple))\n"
   ]
  },
  {
   "cell_type": "code",
   "execution_count": 102,
   "metadata": {},
   "outputs": [
    {
     "name": "stdout",
     "output_type": "stream",
     "text": [
      "{'cat': 'yellow', 'dog': 'black', 'horse': 'brown'}\n",
      "brown\n"
     ]
    },
    {
     "data": {
      "text/plain": [
       "dict"
      ]
     },
     "execution_count": 102,
     "metadata": {},
     "output_type": "execute_result"
    }
   ],
   "source": [
    "animals=dict([(\"cat\",\"yellow\"),(\"dog\",\"black\"),(\"horse\",\"brown\")])  #dictionary çevirmek için\n",
    "print(animals)       \n",
    "\n",
    "#animals[\"cat\"][\"colors\"] \n",
    "print(animals.pop(\"horse\"))\n",
    "\n",
    "type(animals)"
   ]
  },
  {
   "cell_type": "code",
   "execution_count": 110,
   "metadata": {},
   "outputs": [],
   "source": [
    "#iç içe dictionaryler kurabiliyoruz.\n",
    "\n",
    "animals = {\n",
    "    \"cat\": {\n",
    "        \"color\": \"yellow\",\n",
    "        \"weight\": \"5.1\"\n",
    "    },\n",
    "    \"dog\": \"black\",\n",
    "    \"horse\": \"brown\"\n",
    "}"
   ]
  },
  {
   "cell_type": "code",
   "execution_count": 107,
   "metadata": {},
   "outputs": [
    {
     "name": "stdout",
     "output_type": "stream",
     "text": [
      "black\n"
     ]
    },
    {
     "data": {
      "text/plain": [
       "str"
      ]
     },
     "execution_count": 107,
     "metadata": {},
     "output_type": "execute_result"
    }
   ],
   "source": [
    "print(animals[\"dog\"])\n",
    "type(animals[\"dog\"])"
   ]
  },
  {
   "cell_type": "code",
   "execution_count": 113,
   "metadata": {},
   "outputs": [
    {
     "name": "stdout",
     "output_type": "stream",
     "text": [
      "yellow\n",
      "<class 'str'>\n"
     ]
    }
   ],
   "source": [
    "print(animals[\"cat\"][\"color\"])\n",
    "print(type(animals[\"cat\"][\"color\"]))"
   ]
  },
  {
   "cell_type": "code",
   "execution_count": 114,
   "metadata": {},
   "outputs": [
    {
     "name": "stdout",
     "output_type": "stream",
     "text": [
      "{'color': 'yellow', 'weight': '5.1'}\n",
      "{'color': 'yellow', 'weight': '5.1'}\n"
     ]
    }
   ],
   "source": [
    "print(animals.get(\"cat\"))\n",
    "print(animals[\"cat\"])"
   ]
  },
  {
   "cell_type": "code",
   "execution_count": 115,
   "metadata": {},
   "outputs": [
    {
     "name": "stdout",
     "output_type": "stream",
     "text": [
      "{'cat': {'color': 'yellow', 'weight': '5.1'}, 'dog': 'black', 'horse': 'brown'}\n"
     ]
    }
   ],
   "source": [
    "print(animals)"
   ]
  },
  {
   "cell_type": "code",
   "execution_count": 81,
   "metadata": {},
   "outputs": [],
   "source": [
    "animal_colors={\"cat\":\"yellow\",\n",
    "               \"dog\":\"black\",\n",
    "               \"horse\":\"brown\"\n",
    "               }"
   ]
  },
  {
   "cell_type": "code",
   "execution_count": 76,
   "metadata": {},
   "outputs": [
    {
     "name": "stdout",
     "output_type": "stream",
     "text": [
      "cat is yellow\n",
      "dog is black\n",
      "horse is brown\n"
     ]
    }
   ],
   "source": [
    "for animal,color in animal_colors.items():\n",
    "    print(f\"{animal} is {color}\")"
   ]
  },
  {
   "cell_type": "markdown",
   "metadata": {},
   "source": [
    "Sets"
   ]
  },
  {
   "cell_type": "code",
   "execution_count": null,
   "metadata": {},
   "outputs": [],
   "source": [
    "#sets are mutable\n",
    "#frozensets are immutable\n",
    "\n",
    "##methods\n",
    "#iteration\n",
    "#membership(in,not in) \n",
    "\"\"\"diğerlerinde verilerimiz büyükçe kaynak tüketimi artar fakat setlerde \n",
    "bu durum söz konusu değildir\"\"\"\n",
    "#len()\n",
    "#copy()\n"
   ]
  },
  {
   "cell_type": "code",
   "execution_count": null,
   "metadata": {},
   "outputs": [],
   "source": [
    "# A set is a collection which is unordered, unchangeable*, and unindexed.\n",
    "\n",
    "#sets do not support;\n",
    "##indexing\n",
    "##ordering,sorting\n",
    "##slicing\n",
    "##concat"
   ]
  },
  {
   "cell_type": "code",
   "execution_count": 116,
   "metadata": {},
   "outputs": [
    {
     "name": "stdout",
     "output_type": "stream",
     "text": [
      "{'banana', 'cherry', 'apple'}\n"
     ]
    }
   ],
   "source": [
    "thisset = {\"apple\", \"banana\", \"cherry\"}\n",
    "print(thisset)"
   ]
  },
  {
   "cell_type": "code",
   "execution_count": 77,
   "metadata": {},
   "outputs": [
    {
     "name": "stdout",
     "output_type": "stream",
     "text": [
      "<class 'set'>\n",
      "{'ada'}\n"
     ]
    }
   ],
   "source": [
    "my_set={\"ada\"}\n",
    "print(type(my_set))\n",
    "print(my_set)"
   ]
  },
  {
   "cell_type": "code",
   "execution_count": 118,
   "metadata": {},
   "outputs": [
    {
     "name": "stdout",
     "output_type": "stream",
     "text": [
      "{'albert', 'ada', 'marry', 'lovelace'}\n"
     ]
    }
   ],
   "source": [
    "my_set={\"ada\",\"lovelace\",\"marry\",\"albert\",\"ada\"}  #Duplicates Not Allowed\n",
    "print(my_set)"
   ]
  },
  {
   "cell_type": "code",
   "execution_count": 79,
   "metadata": {},
   "outputs": [
    {
     "name": "stdout",
     "output_type": "stream",
     "text": [
      "{'cat', 'horse', 'dog'}\n"
     ]
    }
   ],
   "source": [
    "animal_sets=set(animal_colors)\n",
    "print(animal_sets)"
   ]
  },
  {
   "cell_type": "code",
   "execution_count": 125,
   "metadata": {},
   "outputs": [
    {
     "name": "stdout",
     "output_type": "stream",
     "text": [
      "{'cat': 'yellow', 'dog': 'black', 'horse': 'brown', 'bear': 'brown'}\n",
      "dict_values(['yellow', 'black', 'brown', 'brown'])\n"
     ]
    }
   ],
   "source": [
    "animal_colors={\"cat\":\"yellow\",\n",
    "               \"dog\":\"black\",\n",
    "               \"horse\":\"brown\",\n",
    "              \"bear\":\"brown\" }\n",
    "\n",
    "print(animal_colors)\n",
    "print(animal_colors.values())\n"
   ]
  },
  {
   "cell_type": "code",
   "execution_count": 126,
   "metadata": {},
   "outputs": [
    {
     "name": "stdout",
     "output_type": "stream",
     "text": [
      "dict_values(['yellow', 'black', 'brown', 'brown'])\n",
      "{'black', 'yellow', 'brown'}\n"
     ]
    }
   ],
   "source": [
    "animal_set=set(animal_colors.values()) #valueleri tekleyip sonuçlar\n",
    "print(animal_colors.values())\n",
    "print(animal_set)"
   ]
  },
  {
   "cell_type": "code",
   "execution_count": 85,
   "metadata": {},
   "outputs": [
    {
     "name": "stdout",
     "output_type": "stream",
     "text": [
      "{9, 225}\n"
     ]
    }
   ],
   "source": [
    "numbers=[1,1,1,2,2,2,2,3,4,4,5,15]\n",
    "calculated_numbers={number**2 for number in numbers if number %3==0} #incele\n",
    "print(calculated_numbers) #output : birbirisinin aynısı olan işlemlerden kurtulmuş olduk."
   ]
  },
  {
   "cell_type": "code",
   "execution_count": 135,
   "metadata": {},
   "outputs": [
    {
     "name": "stdout",
     "output_type": "stream",
     "text": [
      "9\n",
      "225\n"
     ]
    }
   ],
   "source": [
    "#solution 2\n",
    "numbers=[1,1,1,2,2,2,2,3,4,4,5,15]\n",
    "def calculated_numbers0():\n",
    "    for number in numbers:\n",
    "        if number%3==0:\n",
    "            print( number**2)\n",
    "calculated_numbers0()"
   ]
  },
  {
   "cell_type": "code",
   "execution_count": 149,
   "metadata": {},
   "outputs": [
    {
     "data": {
      "text/plain": [
       "225"
      ]
     },
     "execution_count": 149,
     "metadata": {},
     "output_type": "execute_result"
    }
   ],
   "source": [
    "def calculated_numbers1():\n",
    "    for number in numbers:\n",
    "        square=number**2  #result 1,4,9,16,25,225\n",
    "    if square %3==0: #incele\n",
    "     return square\n",
    "calculated_numbers1()\n",
    "\n",
    "#biz bunu yaptığımızda sonuçları depolayamıyoruz.\n",
    "#as the current code only returns the last squared number that satisfies the condition.\n",
    "\n",
    "#expexted result is 9 and 225"
   ]
  },
  {
   "cell_type": "code",
   "execution_count": null,
   "metadata": {},
   "outputs": [],
   "source": [
    " \"\"\"\n",
    " I added a list result_list to store the squared numbers that meet the condition. \n",
    " The function now returns this list, and you can see the results for the provided numbers list.\n",
    " \"\"\"\n",
    "\n"
   ]
  },
  {
   "cell_type": "code",
   "execution_count": 152,
   "metadata": {},
   "outputs": [
    {
     "data": {
      "text/plain": [
       "[9, 225]"
      ]
     },
     "execution_count": 152,
     "metadata": {},
     "output_type": "execute_result"
    }
   ],
   "source": [
    "def calculated_numbers1(numbers):\n",
    "    result_list = []  # Create a list to store results\n",
    "    for number in numbers:\n",
    "        square = number ** 2  # Calculate the square\n",
    "        if square % 3 == 0:  # Check if the square is divisible by 3\n",
    "            result_list.append(square)  # Store the result in the list\n",
    "    return result_list  # Return the list of results\n",
    "calculated_numbers1(numbers)\n"
   ]
  },
  {
   "cell_type": "code",
   "execution_count": 161,
   "metadata": {},
   "outputs": [
    {
     "data": {
      "text/plain": [
       "{9, 225}"
      ]
     },
     "execution_count": 161,
     "metadata": {},
     "output_type": "execute_result"
    }
   ],
   "source": [
    "def calculated_numbers2(numbers):\n",
    "    sonuc_listesi=[] # Create a list to store results\n",
    "    for number in numbers:\n",
    "        square=number**2 #1,4,9,25,225  # Calculate the square\n",
    "        if square %3==0:   #Check if the square is divisible by 3\n",
    "            sonuc_listesi.append(square) # Store the result in the list\n",
    "    return set(sonuc_listesi) # Return the list of results as set\n",
    "calculated_numbers2(numbers)"
   ]
  },
  {
   "cell_type": "code",
   "execution_count": null,
   "metadata": {},
   "outputs": [],
   "source": [
    "#isdisjoint\n",
    "#issubset(animals)\n",
    "#issuperset  \n"
   ]
  },
  {
   "cell_type": "code",
   "execution_count": 163,
   "metadata": {},
   "outputs": [
    {
     "data": {
      "text/plain": [
       "set"
      ]
     },
     "execution_count": 163,
     "metadata": {},
     "output_type": "execute_result"
    }
   ],
   "source": [
    "\n",
    "birds = {'crow','sparrow','eagle','chicken', 'albatross'}\n",
    "type(birds)"
   ]
  },
  {
   "cell_type": "code",
   "execution_count": 164,
   "metadata": {},
   "outputs": [
    {
     "data": {
      "text/plain": [
       "dict"
      ]
     },
     "execution_count": 164,
     "metadata": {},
     "output_type": "execute_result"
    }
   ],
   "source": [
    "animals = {'chicken': 'white',\n",
    "           'sparrow': 'grey',\n",
    "           'eagle': 'brown and white',\n",
    "           'albatross': 'grey and white',\n",
    "           'crow': 'black',\n",
    "           'elephant': 'grey', \n",
    "           'dog': 'rust',\n",
    "           'cow': 'black and white',\n",
    "           'tiger': 'orange and black',\n",
    "           'cat': 'grey',\n",
    "           'squirrel': 'black'}\n",
    "\n",
    "type(animals)"
   ]
  },
  {
   "cell_type": "code",
   "execution_count": 165,
   "metadata": {},
   "outputs": [
    {
     "data": {
      "text/plain": [
       "False"
      ]
     },
     "execution_count": 165,
     "metadata": {},
     "output_type": "execute_result"
    }
   ],
   "source": [
    "birds.isdisjoint(animals)"
   ]
  },
  {
   "cell_type": "code",
   "execution_count": 166,
   "metadata": {},
   "outputs": [
    {
     "data": {
      "text/plain": [
       "True"
      ]
     },
     "execution_count": 166,
     "metadata": {},
     "output_type": "execute_result"
    }
   ],
   "source": [
    "\n",
    "birds.issubset(animals)"
   ]
  },
  {
   "cell_type": "code",
   "execution_count": 167,
   "metadata": {},
   "outputs": [
    {
     "data": {
      "text/plain": [
       "True"
      ]
     },
     "execution_count": 167,
     "metadata": {},
     "output_type": "execute_result"
    }
   ],
   "source": [
    "\n",
    "set(animals).issuperset(birds)"
   ]
  },
  {
   "cell_type": "markdown",
   "metadata": {},
   "source": [
    "Classes"
   ]
  },
  {
   "cell_type": "code",
   "execution_count": null,
   "metadata": {},
   "outputs": [],
   "source": [
    "#syn class. Büyükharflerle başlarız\n",
    "class MyClass:    #class=hayvanlar, #subclass:memeliler ....\n",
    "\n",
    "    pass"
   ]
  },
  {
   "cell_type": "code",
   "execution_count": null,
   "metadata": {},
   "outputs": [],
   "source": [
    "#function template\n",
    "def myfunction():\n",
    "    \"\"\"\n",
    "    :parametreler vs eklenebilir, before hand\n",
    "\n",
    "    \"\"\"\n",
    "    # this function will calculate something\n",
    "\n",
    "    pass #hayalet gibi algılar pass burada(function) kullanılmaz"
   ]
  },
  {
   "cell_type": "code",
   "execution_count": 2,
   "metadata": {},
   "outputs": [],
   "source": [
    "class Animal:\n",
    "    isalive=True\n",
    "    age=0 #classtan yeni bir instans"
   ]
  },
  {
   "cell_type": "code",
   "execution_count": 3,
   "metadata": {},
   "outputs": [
    {
     "name": "stdout",
     "output_type": "stream",
     "text": [
      "<__main__.Animal object at 0x0000012012411990>\n",
      "<class '__main__.Animal'>\n"
     ]
    }
   ],
   "source": [
    "my_cat=Animal()\n",
    "print(my_cat)\n",
    "print(type(my_cat))"
   ]
  },
  {
   "cell_type": "code",
   "execution_count": 4,
   "metadata": {},
   "outputs": [
    {
     "data": {
      "text/plain": [
       "True"
      ]
     },
     "execution_count": 4,
     "metadata": {},
     "output_type": "execute_result"
    }
   ],
   "source": [
    "my_cat.isalive #attribute olduğu için patantez kullanmıyoruz"
   ]
  },
  {
   "cell_type": "code",
   "execution_count": 5,
   "metadata": {},
   "outputs": [
    {
     "data": {
      "text/plain": [
       "0"
      ]
     },
     "execution_count": 5,
     "metadata": {},
     "output_type": "execute_result"
    }
   ],
   "source": [
    "my_cat.age"
   ]
  },
  {
   "cell_type": "code",
   "execution_count": 7,
   "metadata": {},
   "outputs": [],
   "source": [
    "my_second_cat=Animal()\n"
   ]
  },
  {
   "cell_type": "code",
   "execution_count": 8,
   "metadata": {},
   "outputs": [
    {
     "data": {
      "text/plain": [
       "True"
      ]
     },
     "execution_count": 8,
     "metadata": {},
     "output_type": "execute_result"
    }
   ],
   "source": [
    "my_cat.age==my_second_cat.age"
   ]
  },
  {
   "cell_type": "code",
   "execution_count": 9,
   "metadata": {},
   "outputs": [],
   "source": [
    "my_cat.age=2"
   ]
  },
  {
   "cell_type": "code",
   "execution_count": 10,
   "metadata": {},
   "outputs": [
    {
     "data": {
      "text/plain": [
       "False"
      ]
     },
     "execution_count": 10,
     "metadata": {},
     "output_type": "execute_result"
    }
   ],
   "source": [
    "my_cat.age==my_second_cat.age"
   ]
  },
  {
   "cell_type": "code",
   "execution_count": 11,
   "metadata": {},
   "outputs": [],
   "source": [
    "Animal.isalive=False"
   ]
  },
  {
   "cell_type": "code",
   "execution_count": 12,
   "metadata": {},
   "outputs": [
    {
     "name": "stdout",
     "output_type": "stream",
     "text": [
      "False\n",
      "False\n"
     ]
    }
   ],
   "source": [
    "print(my_cat.isalive)\n",
    "print(my_second_cat.isalive) #Hiyerarşik şekilde oluşutulmuşlara etki edebiliyoruz."
   ]
  },
  {
   "cell_type": "code",
   "execution_count": null,
   "metadata": {},
   "outputs": [],
   "source": [
    "Animal.isalive=True"
   ]
  },
  {
   "cell_type": "code",
   "execution_count": 17,
   "metadata": {},
   "outputs": [],
   "source": [
    "class Cat:\n",
    "    isalive=True\n",
    "    age=0\n",
    "\n",
    "    def __init__(self,location):\n",
    "        self.location=location.values()"
   ]
  },
  {
   "cell_type": "code",
   "execution_count": 19,
   "metadata": {},
   "outputs": [
    {
     "data": {
      "text/plain": [
       "dict_values(['home'])"
      ]
     },
     "execution_count": 19,
     "metadata": {},
     "output_type": "execute_result"
    }
   ],
   "source": [
    "boncuk=Cat(location={\"loc\":\"home\"})\n",
    "boncuk.location"
   ]
  },
  {
   "cell_type": "code",
   "execution_count": 31,
   "metadata": {},
   "outputs": [],
   "source": [
    "#Methd ekle\n",
    "class Cat1:\n",
    "    isalive=True\n",
    "    age=0\n",
    "    sound=\"meow\" #ekledik, eklemeden hata alırdık\n",
    "\n",
    "    def __init__(self,location):\n",
    "        self.location=location.values()\n",
    "    def sound(self): #method1\n",
    "        return \"meow\"\n",
    "    def aged(self): #method2 #çağırdığımda aktifleşir. Self oluşuturulan attribute çağrıldığında gelir. cat1'e dahil değildir.\n",
    "        Cat1.age+=1"
   ]
  },
  {
   "cell_type": "code",
   "execution_count": 32,
   "metadata": {},
   "outputs": [
    {
     "data": {
      "text/plain": [
       "dict_values(['home'])"
      ]
     },
     "execution_count": 32,
     "metadata": {},
     "output_type": "execute_result"
    }
   ],
   "source": [
    "boncuk1=Cat1(location={\"loc\":\"home\"}) #boncukları ayırmamız gerekli\n",
    "boncuk1.location"
   ]
  },
  {
   "cell_type": "code",
   "execution_count": 34,
   "metadata": {},
   "outputs": [
    {
     "data": {
      "text/plain": [
       "'meow'"
      ]
     },
     "execution_count": 34,
     "metadata": {},
     "output_type": "execute_result"
    }
   ],
   "source": [
    "boncuk1.sound()"
   ]
  },
  {
   "cell_type": "code",
   "execution_count": 35,
   "metadata": {},
   "outputs": [],
   "source": [
    "boncuk1.aged()"
   ]
  },
  {
   "cell_type": "code",
   "execution_count": 36,
   "metadata": {},
   "outputs": [
    {
     "data": {
      "text/plain": [
       "1"
      ]
     },
     "execution_count": 36,
     "metadata": {},
     "output_type": "execute_result"
    }
   ],
   "source": [
    "boncuk1.age #1 arttı"
   ]
  },
  {
   "cell_type": "markdown",
   "metadata": {},
   "source": [
    "##packing and unpacking##"
   ]
  },
  {
   "cell_type": "code",
   "execution_count": null,
   "metadata": {},
   "outputs": [],
   "source": []
  }
 ],
 "metadata": {
  "kernelspec": {
   "display_name": "base",
   "language": "python",
   "name": "python3"
  },
  "language_info": {
   "codemirror_mode": {
    "name": "ipython",
    "version": 3
   },
   "file_extension": ".py",
   "mimetype": "text/x-python",
   "name": "python",
   "nbconvert_exporter": "python",
   "pygments_lexer": "ipython3",
   "version": "3.11.5"
  }
 },
 "nbformat": 4,
 "nbformat_minor": 2
}
