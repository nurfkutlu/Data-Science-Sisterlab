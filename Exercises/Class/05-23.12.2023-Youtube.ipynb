{
 "cells": [
  {
   "cell_type": "code",
   "execution_count": 1,
   "metadata": {},
   "outputs": [],
   "source": [
    "from config import YOUTUBE_API_KEY\n",
    "from googleapiclient.discovery import build\n",
    "from IPython.display import JSON\n",
    "import pandas as pd\n"
   ]
  },
  {
   "cell_type": "markdown",
   "metadata": {},
   "source": [
    "Your main aim : Pull response and turn to json method and do analyze from this structure\n",
    "\n",
    "Firstly you should look guides for python and quickstart.\n",
    "https://developers.google.com/youtube/v3/quickstart/python\n",
    "\n",
    "To analyse API : We need documentation.\n",
    "- https://console.cloud.google.com/apis/dashboard?project=peak-hangout-408406\n",
    "- https://developers.google.com/youtube/v3/getting-started\n",
    "\n",
    "You can look this documentation , we will continue by reference tab by channels for an example. Overview. TRy it now.\n",
    "@try method, request and response network is given. \n",
    "\n",
    "response = request.execute()\n",
    "\n",
    "request = youtube.channels().list(\n",
    "        part=\"snippet,contentDetails,statistics\",\n",
    "        id=\"UC_x5XG1OV2P6uZZ5FSM9Ttw\"\n",
    "    )\n",
    "\n",
    "youtube = googleapiclient.discovery.build(\n",
    "        api_service_name, api_version, credentials=credentials)\n",
    "    \n",
    "- We will modify request according to the security rules and necesserities.\n",
    "\n"
   ]
  },
  {
   "cell_type": "code",
   "execution_count": 2,
   "metadata": {},
   "outputs": [
    {
     "name": "stdout",
     "output_type": "stream",
     "text": [
      "{'kind': 'youtube#channelListResponse', 'etag': 'whyK4rD0f-He1JgFkyEXgnCBzwI', 'pageInfo': {'totalResults': 1, 'resultsPerPage': 5}, 'items': [{'kind': 'youtube#channel', 'etag': 'Nx46r6rKbQsg-U382LWp4m34m1Q', 'id': 'UCYO_jab_esuFRV4b17AJtAw', 'snippet': {'title': '3Blue1Brown', 'description': 'My name is Grant Sanderson. Videos here cover a variety of topics in math, or adjacent fields like physics and CS, all with an emphasis on visualizing the core ideas. To goal is to use animation to help elucidate and motivate otherwise tricky topics, and for difficult problems to be made simple with changes in perspective.\\n\\nFor more information, other projects, FAQs, and inquiries see the website: https://www.3blue1brown.com', 'customUrl': '@3blue1brown', 'publishedAt': '2015-03-03T23:11:55Z', 'thumbnails': {'default': {'url': 'https://yt3.ggpht.com/ytc/AIf8zZSApZdSBilmxjGARJbX1WdIFYXFv69aixy9FcJraA=s88-c-k-c0x00ffffff-no-rj', 'width': 88, 'height': 88}, 'medium': {'url': 'https://yt3.ggpht.com/ytc/AIf8zZSApZdSBilmxjGARJbX1WdIFYXFv69aixy9FcJraA=s240-c-k-c0x00ffffff-no-rj', 'width': 240, 'height': 240}, 'high': {'url': 'https://yt3.ggpht.com/ytc/AIf8zZSApZdSBilmxjGARJbX1WdIFYXFv69aixy9FcJraA=s800-c-k-c0x00ffffff-no-rj', 'width': 800, 'height': 800}}, 'localized': {'title': '3Blue1Brown', 'description': 'My name is Grant Sanderson. Videos here cover a variety of topics in math, or adjacent fields like physics and CS, all with an emphasis on visualizing the core ideas. To goal is to use animation to help elucidate and motivate otherwise tricky topics, and for difficult problems to be made simple with changes in perspective.\\n\\nFor more information, other projects, FAQs, and inquiries see the website: https://www.3blue1brown.com'}, 'country': 'US'}, 'contentDetails': {'relatedPlaylists': {'likes': '', 'uploads': 'UUYO_jab_esuFRV4b17AJtAw'}}, 'statistics': {'viewCount': '413842117', 'subscriberCount': '5730000', 'hiddenSubscriberCount': False, 'videoCount': '158'}}]}\n"
     ]
    }
   ],
   "source": [
    "#each steps at try this method, just analyze your modification necesserities.\n",
    "# Get credentials and create an API client\n",
    "api_service_name = \"youtube\"\n",
    "api_version = \"v3\"\n",
    "\n",
    "youtube = build(\n",
    "    api_service_name, api_version, developerKey=YOUTUBE_API_KEY) # we dont have credentials ,have API key so changed by API KEY\n",
    "\n",
    "\n",
    "channel_ids = [\n",
    "    \"UCYO_jab_esuFRV4b17AJtAw\",       #https://www.streamweasels.com/tools/youtube-channel-id-and-user-id-convertor/\n",
    "    # Can add more channels\n",
    "]\n",
    "\n",
    "request = youtube.channels().list(\n",
    "    part=\"snippet,contentDetails,statistics\",\n",
    "    id=\",\".join(channel_ids)\n",
    ")\n",
    "response = request.execute()\n",
    "print(response)"
   ]
  },
  {
   "cell_type": "code",
   "execution_count": 3,
   "metadata": {},
   "outputs": [
    {
     "data": {
      "application/json": {
       "etag": "whyK4rD0f-He1JgFkyEXgnCBzwI",
       "items": [
        {
         "contentDetails": {
          "relatedPlaylists": {
           "likes": "",
           "uploads": "UUYO_jab_esuFRV4b17AJtAw"
          }
         },
         "etag": "Nx46r6rKbQsg-U382LWp4m34m1Q",
         "id": "UCYO_jab_esuFRV4b17AJtAw",
         "kind": "youtube#channel",
         "snippet": {
          "country": "US",
          "customUrl": "@3blue1brown",
          "description": "My name is Grant Sanderson. Videos here cover a variety of topics in math, or adjacent fields like physics and CS, all with an emphasis on visualizing the core ideas. To goal is to use animation to help elucidate and motivate otherwise tricky topics, and for difficult problems to be made simple with changes in perspective.\n\nFor more information, other projects, FAQs, and inquiries see the website: https://www.3blue1brown.com",
          "localized": {
           "description": "My name is Grant Sanderson. Videos here cover a variety of topics in math, or adjacent fields like physics and CS, all with an emphasis on visualizing the core ideas. To goal is to use animation to help elucidate and motivate otherwise tricky topics, and for difficult problems to be made simple with changes in perspective.\n\nFor more information, other projects, FAQs, and inquiries see the website: https://www.3blue1brown.com",
           "title": "3Blue1Brown"
          },
          "publishedAt": "2015-03-03T23:11:55Z",
          "thumbnails": {
           "default": {
            "height": 88,
            "url": "https://yt3.ggpht.com/ytc/AIf8zZSApZdSBilmxjGARJbX1WdIFYXFv69aixy9FcJraA=s88-c-k-c0x00ffffff-no-rj",
            "width": 88
           },
           "high": {
            "height": 800,
            "url": "https://yt3.ggpht.com/ytc/AIf8zZSApZdSBilmxjGARJbX1WdIFYXFv69aixy9FcJraA=s800-c-k-c0x00ffffff-no-rj",
            "width": 800
           },
           "medium": {
            "height": 240,
            "url": "https://yt3.ggpht.com/ytc/AIf8zZSApZdSBilmxjGARJbX1WdIFYXFv69aixy9FcJraA=s240-c-k-c0x00ffffff-no-rj",
            "width": 240
           }
          },
          "title": "3Blue1Brown"
         },
         "statistics": {
          "hiddenSubscriberCount": false,
          "subscriberCount": "5730000",
          "videoCount": "158",
          "viewCount": "413842117"
         }
        }
       ],
       "kind": "youtube#channelListResponse",
       "pageInfo": {
        "resultsPerPage": 5,
        "totalResults": 1
       }
      },
      "text/plain": [
       "<IPython.core.display.JSON object>"
      ]
     },
     "execution_count": 3,
     "metadata": {
      "application/json": {
       "expanded": false,
       "root": "root"
      }
     },
     "output_type": "execute_result"
    }
   ],
   "source": [
    "JSON(response)"
   ]
  },
  {
   "cell_type": "markdown",
   "metadata": {},
   "source": [
    "To analyze of JSON ;\n",
    "- https://www.objgen.com/json/local/rh49EaBVJ\n",
    "- https://jsonformatter.org/json-editor\n"
   ]
  },
  {
   "cell_type": "markdown",
   "metadata": {},
   "source": [
    "Define Methods by Functions"
   ]
  },
  {
   "cell_type": "code",
   "execution_count": 4,
   "metadata": {},
   "outputs": [],
   "source": [
    "def get_channel_stats(youtube, channel_ids):\n",
    "    all_data = []\n",
    "\n",
    "    request = youtube.channels().list(\n",
    "        part=\"snippet,contentDetails,statistics\",\n",
    "        id=\",\".join(channel_ids)\n",
    "    )\n",
    "\n",
    "    response = request.execute()\n",
    "\n",
    "    # loop through items in response\n",
    "    for item in response[\"items\"]:\n",
    "        data = {'channelName': item['snippet']['title'],\n",
    "                'subscribers': item['statistics']['subscriberCount'],\n",
    "                'views': item['statistics']['viewCount'],\n",
    "                'totalVideos': item['statistics']['videoCount'],\n",
    "                'playlistId': item['contentDetails']['relatedPlaylists']['uploads']\n",
    "        }\n",
    "        all_data.append(data)\n",
    "    \n",
    "    return pd.DataFrame(all_data)"
   ]
  },
  {
   "cell_type": "code",
   "execution_count": 5,
   "metadata": {},
   "outputs": [],
   "source": [
    "channel_ids = get_channel_stats(youtube, channel_ids)"
   ]
  },
  {
   "cell_type": "code",
   "execution_count": 6,
   "metadata": {},
   "outputs": [
    {
     "data": {
      "text/html": [
       "<div>\n",
       "<style scoped>\n",
       "    .dataframe tbody tr th:only-of-type {\n",
       "        vertical-align: middle;\n",
       "    }\n",
       "\n",
       "    .dataframe tbody tr th {\n",
       "        vertical-align: top;\n",
       "    }\n",
       "\n",
       "    .dataframe thead th {\n",
       "        text-align: right;\n",
       "    }\n",
       "</style>\n",
       "<table border=\"1\" class=\"dataframe\">\n",
       "  <thead>\n",
       "    <tr style=\"text-align: right;\">\n",
       "      <th></th>\n",
       "      <th>channelName</th>\n",
       "      <th>subscribers</th>\n",
       "      <th>views</th>\n",
       "      <th>totalVideos</th>\n",
       "      <th>playlistId</th>\n",
       "    </tr>\n",
       "  </thead>\n",
       "  <tbody>\n",
       "    <tr>\n",
       "      <th>0</th>\n",
       "      <td>3Blue1Brown</td>\n",
       "      <td>5730000</td>\n",
       "      <td>413842117</td>\n",
       "      <td>158</td>\n",
       "      <td>UUYO_jab_esuFRV4b17AJtAw</td>\n",
       "    </tr>\n",
       "  </tbody>\n",
       "</table>\n",
       "</div>"
      ],
      "text/plain": [
       "   channelName subscribers      views totalVideos                playlistId\n",
       "0  3Blue1Brown     5730000  413842117         158  UUYO_jab_esuFRV4b17AJtAw"
      ]
     },
     "execution_count": 6,
     "metadata": {},
     "output_type": "execute_result"
    }
   ],
   "source": [
    "channel_ids"
   ]
  },
  {
   "cell_type": "markdown",
   "metadata": {},
   "source": [
    "Playlist details"
   ]
  },
  {
   "cell_type": "code",
   "execution_count": 7,
   "metadata": {},
   "outputs": [],
   "source": [
    "request = youtube.playlistItems().list(\n",
    "        part=\"snippet,contentDetails\",\n",
    "        playlistId=\"UUYO_jab_esuFRV4b17AJtAw\"\n",
    "    )\n",
    "response = request.execute()"
   ]
  },
  {
   "cell_type": "code",
   "execution_count": 8,
   "metadata": {},
   "outputs": [
    {
     "data": {
      "application/json": {
       "etag": "CS8tmbe1jIV5z9kwoH8dmlMv27k",
       "items": [
        {
         "contentDetails": {
          "videoId": "R1e7aHBKLnM",
          "videoPublishedAt": "2023-12-25T19:00:15Z"
         },
         "etag": "IBRVrUaQKME5fU0eXXPx0msr6mk",
         "id": "VVVZT19qYWJfZXN1RlJWNGIxN0FKdEF3LlIxZTdhSEJLTG5N",
         "kind": "youtube#playlistItem",
         "snippet": {
          "channelId": "UCYO_jab_esuFRV4b17AJtAw",
          "channelTitle": "3Blue1Brown",
          "description": "A link to the full video is at the bottom of the screen.\nOr, for reference: https://youtu.be/NaL_Cb42WyY\n\nThat video explores how this question leads to a quandary on prime numbers, and how a pattern in primes allows for a clean final answer.\n\nEditing from long-form to short by Dawid Kołodziej",
          "playlistId": "UUYO_jab_esuFRV4b17AJtAw",
          "position": 0,
          "publishedAt": "2023-12-25T19:00:15Z",
          "resourceId": {
           "kind": "youtube#video",
           "videoId": "R1e7aHBKLnM"
          },
          "thumbnails": {
           "default": {
            "height": 90,
            "url": "https://i.ytimg.com/vi/R1e7aHBKLnM/default.jpg",
            "width": 120
           },
           "high": {
            "height": 360,
            "url": "https://i.ytimg.com/vi/R1e7aHBKLnM/hqdefault.jpg",
            "width": 480
           },
           "maxres": {
            "height": 720,
            "url": "https://i.ytimg.com/vi/R1e7aHBKLnM/maxresdefault.jpg",
            "width": 1280
           },
           "medium": {
            "height": 180,
            "url": "https://i.ytimg.com/vi/R1e7aHBKLnM/mqdefault.jpg",
            "width": 320
           },
           "standard": {
            "height": 480,
            "url": "https://i.ytimg.com/vi/R1e7aHBKLnM/sddefault.jpg",
            "width": 640
           }
          },
          "title": "How to derive a formula for π",
          "videoOwnerChannelId": "UCYO_jab_esuFRV4b17AJtAw",
          "videoOwnerChannelTitle": "3Blue1Brown"
         }
        },
        {
         "contentDetails": {
          "videoId": "tjIOqIr80ns",
          "videoPublishedAt": "2023-12-23T00:00:26Z"
         },
         "etag": "_MCFXLDLanZdAuUZkdvWEqOvHeg",
         "id": "VVVZT19qYWJfZXN1RlJWNGIxN0FKdEF3LnRqSU9xSXI4MG5z",
         "kind": "youtube#playlistItem",
         "snippet": {
          "channelId": "UCYO_jab_esuFRV4b17AJtAw",
          "channelTitle": "3Blue1Brown",
          "description": "A link to the full video is at the bottom of the screen.\nOr, for reference: https://youtu.be/VYQVlVoWoPY\n\nThat video gives multiple examples of lying with visual proofs\n\nEditing from the original video into this short by Dawid Kołodziej",
          "playlistId": "UUYO_jab_esuFRV4b17AJtAw",
          "position": 1,
          "publishedAt": "2023-12-23T00:00:26Z",
          "resourceId": {
           "kind": "youtube#video",
           "videoId": "tjIOqIr80ns"
          },
          "thumbnails": {
           "default": {
            "height": 90,
            "url": "https://i.ytimg.com/vi/tjIOqIr80ns/default.jpg",
            "width": 120
           },
           "high": {
            "height": 360,
            "url": "https://i.ytimg.com/vi/tjIOqIr80ns/hqdefault.jpg",
            "width": 480
           },
           "maxres": {
            "height": 720,
            "url": "https://i.ytimg.com/vi/tjIOqIr80ns/maxresdefault.jpg",
            "width": 1280
           },
           "medium": {
            "height": 180,
            "url": "https://i.ytimg.com/vi/tjIOqIr80ns/mqdefault.jpg",
            "width": 320
           },
           "standard": {
            "height": 480,
            "url": "https://i.ytimg.com/vi/tjIOqIr80ns/sddefault.jpg",
            "width": 640
           }
          },
          "title": "The limit of limiting arguments",
          "videoOwnerChannelId": "UCYO_jab_esuFRV4b17AJtAw",
          "videoOwnerChannelTitle": "3Blue1Brown"
         }
        },
        {
         "contentDetails": {
          "videoId": "W1gW1dHRsOw",
          "videoPublishedAt": "2023-12-21T00:15:02Z"
         },
         "etag": "9bq8T46w6Npvp1vJMrRW40ifsTA",
         "id": "VVVZT19qYWJfZXN1RlJWNGIxN0FKdEF3LlcxZ1cxZEhSc093",
         "kind": "youtube#playlistItem",
         "snippet": {
          "channelId": "UCYO_jab_esuFRV4b17AJtAw",
          "channelTitle": "3Blue1Brown",
          "description": "YouTube disabled links in descriptions and comments, but we can add links to videos on the shorts player itself. For reference, the one at the bottom of this screen is https://youtu.be/KTzGBJPuJwM",
          "playlistId": "UUYO_jab_esuFRV4b17AJtAw",
          "position": 2,
          "publishedAt": "2023-12-21T00:15:02Z",
          "resourceId": {
           "kind": "youtube#video",
           "videoId": "W1gW1dHRsOw"
          },
          "thumbnails": {
           "default": {
            "height": 90,
            "url": "https://i.ytimg.com/vi/W1gW1dHRsOw/default.jpg",
            "width": 120
           },
           "high": {
            "height": 360,
            "url": "https://i.ytimg.com/vi/W1gW1dHRsOw/hqdefault.jpg",
            "width": 480
           },
           "maxres": {
            "height": 720,
            "url": "https://i.ytimg.com/vi/W1gW1dHRsOw/maxresdefault.jpg",
            "width": 1280
           },
           "medium": {
            "height": 180,
            "url": "https://i.ytimg.com/vi/W1gW1dHRsOw/mqdefault.jpg",
            "width": 320
           },
           "standard": {
            "height": 480,
            "url": "https://i.ytimg.com/vi/W1gW1dHRsOw/sddefault.jpg",
            "width": 640
           }
          },
          "title": "For anyone who might not know how links in shorts work",
          "videoOwnerChannelId": "UCYO_jab_esuFRV4b17AJtAw",
          "videoOwnerChannelTitle": "3Blue1Brown"
         }
        },
        {
         "contentDetails": {
          "videoId": "p9i3cYMQtBY",
          "videoPublishedAt": "2023-12-21T00:00:20Z"
         },
         "etag": "FwzRP0CdmGTd9cmv3YbVjgIDlxU",
         "id": "VVVZT19qYWJfZXN1RlJWNGIxN0FKdEF3LnA5aTNjWU1RdEJZ",
         "kind": "youtube#playlistItem",
         "snippet": {
          "channelId": "UCYO_jab_esuFRV4b17AJtAw",
          "channelTitle": "3Blue1Brown",
          "description": "A link to the full video is at the bottom of the screen.\nOr, for reference: https://youtu.be/d-o3eB9sfls",
          "playlistId": "UUYO_jab_esuFRV4b17AJtAw",
          "position": 3,
          "publishedAt": "2023-12-21T00:00:20Z",
          "resourceId": {
           "kind": "youtube#video",
           "videoId": "p9i3cYMQtBY"
          },
          "thumbnails": {
           "default": {
            "height": 90,
            "url": "https://i.ytimg.com/vi/p9i3cYMQtBY/default.jpg",
            "width": 120
           },
           "high": {
            "height": 360,
            "url": "https://i.ytimg.com/vi/p9i3cYMQtBY/hqdefault.jpg",
            "width": 480
           },
           "maxres": {
            "height": 720,
            "url": "https://i.ytimg.com/vi/p9i3cYMQtBY/maxresdefault.jpg",
            "width": 1280
           },
           "medium": {
            "height": 180,
            "url": "https://i.ytimg.com/vi/p9i3cYMQtBY/mqdefault.jpg",
            "width": 320
           },
           "standard": {
            "height": 480,
            "url": "https://i.ytimg.com/vi/p9i3cYMQtBY/sddefault.jpg",
            "width": 640
           }
          },
          "title": "Infinite Lighthouses and π",
          "videoOwnerChannelId": "UCYO_jab_esuFRV4b17AJtAw",
          "videoOwnerChannelTitle": "3Blue1Brown"
         }
        },
        {
         "contentDetails": {
          "videoId": "X4jpqCu-wlA",
          "videoPublishedAt": "2023-12-16T00:00:24Z"
         },
         "etag": "BqK4_-zpg6bV5RyqVYDXpSCsOms",
         "id": "VVVZT19qYWJfZXN1RlJWNGIxN0FKdEF3Llg0anBxQ3Utd2xB",
         "kind": "youtube#playlistItem",
         "snippet": {
          "channelId": "UCYO_jab_esuFRV4b17AJtAw",
          "channelTitle": "3Blue1Brown",
          "description": "Originally written as a supplement to an explanation of the cryptography behind Bitcoin: https://youtu.be/bBC-nXj3Ng4\n(An active link is on the bottom of the video player)",
          "playlistId": "UUYO_jab_esuFRV4b17AJtAw",
          "position": 4,
          "publishedAt": "2023-12-16T00:00:24Z",
          "resourceId": {
           "kind": "youtube#video",
           "videoId": "X4jpqCu-wlA"
          },
          "thumbnails": {
           "default": {
            "height": 90,
            "url": "https://i.ytimg.com/vi/X4jpqCu-wlA/default.jpg",
            "width": 120
           },
           "high": {
            "height": 360,
            "url": "https://i.ytimg.com/vi/X4jpqCu-wlA/hqdefault.jpg",
            "width": 480
           },
           "maxres": {
            "height": 720,
            "url": "https://i.ytimg.com/vi/X4jpqCu-wlA/maxresdefault.jpg",
            "width": 1280
           },
           "medium": {
            "height": 180,
            "url": "https://i.ytimg.com/vi/X4jpqCu-wlA/mqdefault.jpg",
            "width": 320
           },
           "standard": {
            "height": 480,
            "url": "https://i.ytimg.com/vi/X4jpqCu-wlA/sddefault.jpg",
            "width": 640
           }
          },
          "title": "Can you even imagine 2^256?",
          "videoOwnerChannelId": "UCYO_jab_esuFRV4b17AJtAw",
          "videoOwnerChannelTitle": "3Blue1Brown"
         }
        }
       ],
       "kind": "youtube#playlistItemListResponse",
       "nextPageToken": "EAAaelBUOkNBVWlFRFZHTlRRNU5VSkJPRU0xUlRCRE1FTW9BVWpYcTV6cG9xdURBMUFCV2pZaVEyaG9WbFpXYkZCWU1uQm9XV3c1YkdNelZrZFZiRmt3V1dwRk0xRlZjREJSV0dOVFEzZHFRVzl4WlhOQ2FFUlpiamhOU1NJ",
       "pageInfo": {
        "resultsPerPage": 5,
        "totalResults": 158
       }
      },
      "text/plain": [
       "<IPython.core.display.JSON object>"
      ]
     },
     "execution_count": 8,
     "metadata": {
      "application/json": {
       "expanded": false,
       "root": "root"
      }
     },
     "output_type": "execute_result"
    }
   ],
   "source": [
    "JSON(response)"
   ]
  },
  {
   "cell_type": "markdown",
   "metadata": {},
   "source": [
    "Method define"
   ]
  },
  {
   "cell_type": "code",
   "execution_count": 9,
   "metadata": {},
   "outputs": [],
   "source": [
    "def get_video_ids(youtube, playlist_id):\n",
    "    video_ids = []\n",
    "\n",
    "    request = youtube.playlistItems().list(\n",
    "            part=\"snippet,contentDetails\",\n",
    "            playlistId=playlist_id\n",
    "        )\n",
    "    response = request.execute()\n",
    "\n",
    "    for item in response['items']:\n",
    "        video_ids.append(item['contentDetails']['videoId'])\n",
    "        \n",
    "    return video_ids"
   ]
  },
  {
   "cell_type": "code",
   "execution_count": 10,
   "metadata": {},
   "outputs": [],
   "source": [
    "playlist_id = \"UUYO_jab_esuFRV4b17AJtAw\"\n",
    "\n",
    "video_ids = get_video_ids(youtube, playlist_id)"
   ]
  },
  {
   "cell_type": "code",
   "execution_count": 11,
   "metadata": {},
   "outputs": [
    {
     "data": {
      "text/plain": [
       "['R1e7aHBKLnM', 'tjIOqIr80ns', 'W1gW1dHRsOw', 'p9i3cYMQtBY', 'X4jpqCu-wlA']"
      ]
     },
     "execution_count": 11,
     "metadata": {},
     "output_type": "execute_result"
    }
   ],
   "source": [
    "video_ids"
   ]
  },
  {
   "cell_type": "markdown",
   "metadata": {},
   "source": [
    "Method"
   ]
  },
  {
   "cell_type": "code",
   "execution_count": 12,
   "metadata": {},
   "outputs": [],
   "source": [
    "def get_video_ids(youtube, playlist_id):\n",
    "    video_ids = []\n",
    "\n",
    "    request = youtube.playlistItems().list(\n",
    "            part=\"snippet,contentDetails\",\n",
    "            playlistId=playlist_id,\n",
    "            maxResults=50\n",
    "        )\n",
    "    response = request.execute()\n",
    "\n",
    "    for item in response['items']:\n",
    "        video_ids.append(item['contentDetails']['videoId'])\n",
    "\n",
    "    next_page_token = response.get('nextPageToken')\n",
    "    \n",
    "    while next_page_token is not None:\n",
    "        request = youtube.playlistItems().list(\n",
    "                part=\"snippet,contentDetails\",\n",
    "                playlistId=playlist_id,\n",
    "                maxResults=50,\n",
    "                pageToken=next_page_token\n",
    "            )\n",
    "        response = request.execute()\n",
    "\n",
    "        for item in response['items']:\n",
    "            video_ids.append(item['contentDetails']['videoId'])\n",
    "\n",
    "        next_page_token = response.get('nextPageToken')    \n",
    "\n",
    "        \n",
    "    return video_ids"
   ]
  },
  {
   "cell_type": "code",
   "execution_count": 13,
   "metadata": {},
   "outputs": [],
   "source": [
    "playlist_id = \"UUYO_jab_esuFRV4b17AJtAw\"\n",
    "\n",
    "video_ids = get_video_ids(youtube, playlist_id)"
   ]
  },
  {
   "cell_type": "code",
   "execution_count": 14,
   "metadata": {},
   "outputs": [
    {
     "data": {
      "text/plain": [
       "158"
      ]
     },
     "execution_count": 14,
     "metadata": {},
     "output_type": "execute_result"
    }
   ],
   "source": [
    "len(video_ids)"
   ]
  }
 ],
 "metadata": {
  "kernelspec": {
   "display_name": "Python 3",
   "language": "python",
   "name": "python3"
  },
  "language_info": {
   "codemirror_mode": {
    "name": "ipython",
    "version": 3
   },
   "file_extension": ".py",
   "mimetype": "text/x-python",
   "name": "python",
   "nbconvert_exporter": "python",
   "pygments_lexer": "ipython3",
   "version": "3.9.13"
  }
 },
 "nbformat": 4,
 "nbformat_minor": 2
}
