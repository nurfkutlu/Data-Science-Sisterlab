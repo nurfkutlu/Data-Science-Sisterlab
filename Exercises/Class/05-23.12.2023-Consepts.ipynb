{
 "cells": [
  {
   "cell_type": "markdown",
   "metadata": {},
   "source": [
    "**Double Underscore Methos ( Dunder Methods in python)**"
   ]
  },
  {
   "cell_type": "markdown",
   "metadata": {},
   "source": [
    "Python Magic methods are the methods starting and ending with double underscores ‘__’. They are defined by built-in classes in Python and commonly used for operator overloading.\n",
    "\n",
    "- Built in classes define many magic methods, dir() function can show you magic methods inherited by a class."
   ]
  },
  {
   "cell_type": "code",
   "execution_count": null,
   "metadata": {},
   "outputs": [],
   "source": [
    "#__name__==\"__main__\": It Allows You to Execute Code When the File Runs as a Script, but Not When It’s Imported as a Module"
   ]
  },
  {
   "cell_type": "code",
   "execution_count": null,
   "metadata": {},
   "outputs": [],
   "source": [
    "if __name__==\"__main__\":\n",
    "    run_function()\n"
   ]
  },
  {
   "cell_type": "code",
   "execution_count": 1,
   "metadata": {},
   "outputs": [
    {
     "data": {
      "text/plain": [
       "'__main__'"
      ]
     },
     "execution_count": 1,
     "metadata": {},
     "output_type": "execute_result"
    }
   ],
   "source": [
    "__name__ #variable, karşılığında bir değer var. "
   ]
  },
  {
   "cell_type": "markdown",
   "metadata": {},
   "source": [
    "Modules\n",
    "\n",
    "- Libraries\n",
    "\n",
    "- Functions\n",
    "\n",
    "- Classes\n",
    "\n",
    "- Files (.py)"
   ]
  },
  {
   "cell_type": "markdown",
   "metadata": {},
   "source": [
    "Name sayesinde (__name__) ; modüller arasındaki ilişkiyi yönetiriz. Modülleri diğer dosyalardan import ederken, dışarıdan mı geldi yoksa localde mi diye kontrol ederek istediğimiz blokların çalışmasını gerçekleştirebiliyoruz?\n",
    "- İmportta mı yoksa curren file or current mode mu onu kontrol ediyoruz.\n",
    "- İşletim seviyesi kontrolü de sağlıyoruz. Bizde mi değil mi kontrol"
   ]
  }
 ],
 "metadata": {
  "kernelspec": {
   "display_name": "Python 3",
   "language": "python",
   "name": "python3"
  },
  "language_info": {
   "codemirror_mode": {
    "name": "ipython",
    "version": 3
   },
   "file_extension": ".py",
   "mimetype": "text/x-python",
   "name": "python",
   "nbconvert_exporter": "python",
   "pygments_lexer": "ipython3",
   "version": "3.9.13"
  }
 },
 "nbformat": 4,
 "nbformat_minor": 2
}
