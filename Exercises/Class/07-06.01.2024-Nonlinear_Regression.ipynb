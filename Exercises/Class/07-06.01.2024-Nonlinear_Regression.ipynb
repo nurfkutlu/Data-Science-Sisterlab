{
 "cells": [
  {
   "cell_type": "markdown",
   "metadata": {},
   "source": [
    "# Non-Linear Regression"
   ]
  },
  {
   "cell_type": "code",
   "execution_count": 1,
   "metadata": {},
   "outputs": [],
   "source": [
    "import numpy as np\n",
    "import matplotlib.pyplot as plt "
   ]
  },
  {
   "cell_type": "code",
   "execution_count": 2,
   "metadata": {},
   "outputs": [
    {
     "data": {
      "text/plain": [
       "<matplotlib.collections.PathCollection at 0x20f8e1a2a30>"
      ]
     },
     "execution_count": 2,
     "metadata": {},
     "output_type": "execute_result"
    },
    {
     "data": {
      "image/png": "[encoded data removed]",
      "text/plain": [
       "<Figure size 640x480 with 1 Axes>"
      ]
     },
     "metadata": {},
     "output_type": "display_data"
    }
   ],
   "source": [
    "x=np.linspace(0,10,100)\n",
    "y=np.exp(x)\n",
    "plt.scatter(x,y)"
   ]
  },
  {
   "cell_type": "markdown",
   "metadata": {},
   "source": [
    "we cant use linear regression because of the exponention. So we should use non-linear methods to find our predictions and make more accurate model\n",
    "\n"
   ]
  },
  {
   "cell_type": "markdown",
   "metadata": {},
   "source": [
    "**Polynominal Regression**\n",
    "\n",
    "y = ß0 + (ß1*X1) + ß2*X2² + ... + ßn*Xn^n\n",
    "\n",
    " - Exponential\n",
    " - Quadratic\n",
    " - Cubic\n",
    "\n",
    "   - Minimize the sum of the squares of the differences between y and y^\n",
    "   - Models can fit using the model of \"least squares\""
   ]
  },
  {
   "cell_type": "markdown",
   "metadata": {},
   "source": [
    "**Non-Linear Regression**\n",
    "\n",
    "- non-linear relationship between the dependent variable and a set of independent variables\n",
    "- For a model to be considered non-linear y^ must be a non-linear function of the parametres ß,\n",
    "not necessarily the features of x.\n",
    "- in Non-linear regression, a model is non-linear by parameters."
   ]
  },
  {
   "cell_type": "markdown",
   "metadata": {},
   "source": [
    "**How** can I know if a problem is **linear or non-linear**?\n",
    "- Visually figure out relation, use plots of output variables with each input variable.\n",
    "- Calculate the correlation **coefficient** between dependent and independent variables.\n",
    "  - if for all variables =>**0.7** --> Linear Regression , not non-linear regression"
   ]
  },
  {
   "cell_type": "markdown",
   "metadata": {},
   "source": [
    "**Next Step : Data Modelling**"
   ]
  },
  {
   "cell_type": "markdown",
   "metadata": {},
   "source": [
    "How Should I model my data, if it displays non-linear o a scatterplot?\n",
    "- Polynomial Regresion\n",
    "- Non-linear Regression\n",
    "- Transform your data"
   ]
  }
 ],
 "metadata": {
  "kernelspec": {
   "display_name": "Python 3",
   "language": "python",
   "name": "python3"
  },
  "language_info": {
   "codemirror_mode": {
    "name": "ipython",
    "version": 3
   },
   "file_extension": ".py",
   "mimetype": "text/x-python",
   "name": "python",
   "nbconvert_exporter": "python",
   "pygments_lexer": "ipython3",
   "version": "3.9.13"
  }
 },
 "nbformat": 4,
 "nbformat_minor": 2
}
